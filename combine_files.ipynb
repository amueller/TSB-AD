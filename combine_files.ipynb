{
 "cells": [
  {
   "cell_type": "code",
   "execution_count": null,
   "id": "810e8da9-68d9-4271-978c-83303791ef35",
   "metadata": {},
   "outputs": [],
   "source": [
    "import pandas as pd\n",
    "eval_files = pd.read_csv(\"benchmark_exp/TSB-AD/File-List/TSB-AD-U-Eval-List.csv\")\n",
    "eval_files"
   ]
  },
  {
   "cell_type": "code",
   "execution_count": null,
   "id": "d45bfcf0-5eed-4b0f-8c22-4ee1149bef02",
   "metadata": {},
   "outputs": [],
   "source": [
    "files = {}\n",
    "for f in eval_files.file_name:\n",
    "    files[f.split(\".\")[0]] = pd.read_csv(f\"benchmark_exp/TSB-AD/TSB-AD-U/{f}\")['Data']"
   ]
  },
  {
   "cell_type": "code",
   "execution_count": null,
   "id": "3900d792-fe47-4cc1-ad50-e6815a145074",
   "metadata": {},
   "outputs": [],
   "source": [
    "asdf = pd.Series(files)"
   ]
  },
  {
   "cell_type": "code",
   "execution_count": null,
   "id": "457164bc-5ea0-45cf-8fca-44f9bec53c40",
   "metadata": {},
   "outputs": [],
   "source": [
    "files_with_names = []\n",
    "for f, s in files.items():\n",
    "    s_new = pd.DataFrame(s.copy())\n",
    "    s_new['name'] = f\n",
    "    files_with_names.append(s_new)"
   ]
  },
  {
   "cell_type": "code",
   "execution_count": null,
   "id": "f86ad631-8af6-41e3-91e8-fb59fe46a47e",
   "metadata": {
    "tags": []
   },
   "outputs": [],
   "source": [
    "df_long = pd.concat(files_with_names)"
   ]
  },
  {
   "cell_type": "code",
   "execution_count": null,
   "id": "7205d786-0497-4fd7-9a88-87afd6151bfb",
   "metadata": {},
   "outputs": [],
   "source": [
    "df_long.reset_index().to_parquet(\"series_data_long.parquet\")"
   ]
  },
  {
   "cell_type": "code",
   "execution_count": null,
   "id": "1ccb3b0e-f82c-4ce3-b36e-62e882ed347c",
   "metadata": {},
   "outputs": [],
   "source": [
    "bla = pd.DataFrame(asdf)"
   ]
  },
  {
   "cell_type": "code",
   "execution_count": null,
   "id": "a909ee7c-68de-4ed0-be6c-38dc9715cad4",
   "metadata": {},
   "outputs": [],
   "source": [
    "bla[0].apply(list).to_csv(\"combined_files.csv\")"
   ]
  },
  {
   "cell_type": "code",
   "execution_count": null,
   "id": "7e4133ab-2a65-4bcb-8126-689d2e5fc8d3",
   "metadata": {},
   "outputs": [],
   "source": [
    "pd.DataFrame(bla[0].apply(list)).to_parquet(\"combined_files.parquet\")"
   ]
  },
  {
   "cell_type": "code",
   "execution_count": null,
   "id": "3a39eef9-7bd4-4b16-907f-b4a6793fba6f",
   "metadata": {
    "tags": []
   },
   "outputs": [],
   "source": [
    "df = pd.read_parquet(\"dd2ab5d8-43f0-4a58-acf4-70285684f4be_0_49abff8e02de4e998b1ab9a30f3d7878.parquet\")"
   ]
  },
  {
   "cell_type": "code",
   "execution_count": null,
   "id": "1a817529-8390-44f4-a448-70086f2de2a9",
   "metadata": {},
   "outputs": [],
   "source": [
    "df"
   ]
  },
  {
   "cell_type": "code",
   "execution_count": null,
   "id": "60b8a243-dafc-4960-bae8-a85e4dd74e4a",
   "metadata": {},
   "outputs": [],
   "source": [
    "pd.DataFrame(bla[0].apply(list)).to_parquet(\"missing.parquet\")"
   ]
  },
  {
   "cell_type": "code",
   "execution_count": null,
   "id": "3782b876-554c-4bb9-b188-96810ae3f700",
   "metadata": {},
   "outputs": [],
   "source": [
    "df['DataSetName']"
   ]
  },
  {
   "cell_type": "code",
   "execution_count": null,
   "id": "09281486-7e5b-4ef5-b704-5135a1df8192",
   "metadata": {},
   "outputs": [],
   "source": [
    "missing = [x for x in bla.index if x not in df['DataSetName'].tolist()]"
   ]
  },
  {
   "cell_type": "code",
   "execution_count": null,
   "id": "67ff2dc7-8d14-422b-a302-d2c45ae7c095",
   "metadata": {},
   "outputs": [],
   "source": [
    "pd.DataFrame(bla.loc[missing][0].apply(list)).to_parquet(\"actually_missing.parquet\")"
   ]
  },
  {
   "cell_type": "code",
   "execution_count": null,
   "id": "444ae00f-10a4-40b5-9807-2f2c701c059a",
   "metadata": {},
   "outputs": [],
   "source": [
    "from TSB_AD.evaluation.metrics import get_metrics\n"
   ]
  },
  {
   "cell_type": "code",
   "execution_count": null,
   "id": "a9b266ef-0ac9-4b12-bc9f-f8032c0cb617",
   "metadata": {},
   "outputs": [],
   "source": [
    "import matplotlib.pyplot as plt\n",
    "import matplotlib.patches as patches\n",
    "from matplotlib.ticker import MultipleLocator\n",
    "import numpy as np\n",
    "\n",
    "def plot_detection(signal, label, scores=None, train=None, ax=None, linewidth=1, window_length=None):\n",
    "    if train is not None:\n",
    "        if signal.index.min() < train.index.max():\n",
    "            signal.index = signal.index + train.index.max()\n",
    "    scores = pd.Series(scores, index=signal.index)\n",
    "    label = pd.Series(np.array(label), index=signal.index)\n",
    "    if ax is None:\n",
    "        plt.figure(figsize=(40, 5), dpi=300)\n",
    "        signal_ax = plt.gca()\n",
    "    else:\n",
    "        signal_ax = ax\n",
    "    signal_ax.set_ylabel(\"signal\")\n",
    "    a, = signal_ax.plot(signal, label='signal', c='k', linewidth=linewidth)\n",
    "    b = None\n",
    "    if train is not None:\n",
    "        signal_ax.plot(train, label='train', c='grey', linewidth=linewidth)\n",
    "    if scores is not None:\n",
    "        scores_ax = plt.twinx(signal_ax)\n",
    "        b, = scores_ax.plot(scores, label='scores', c='b', alpha=0.5, linewidth=linewidth)\n",
    "        scores_ax.set_ylabel(\"scores\")\n",
    "    ylims = signal_ax.get_ylim()\n",
    "    yrange = ylims[1] - ylims[0]\n",
    "    ymin = ylims[0] - 0.1 * yrange\n",
    "    ymax = ylims[1] + 0.1 * yrange\n",
    "    signal_ax.set_ylim(ymin, ymax)\n",
    "    for start, end in get_anomaly_regions(label):\n",
    "        width = end - start\n",
    "        thin_thresh = len(label) / 1e3\n",
    "        width = np.maximum(width, thin_thresh)\n",
    "        signal_ax.add_patch(patches.Rectangle((start, ylims[0]), width, ylims[1] - ylims[0], facecolor='red', alpha=0.4))\n",
    "    red_patch = patches.Patch(color='red', label='anomaly', alpha=0.3)\n",
    "    plt.legend(handles=[a, b, red_patch] if b is not None else [a, red_patch])\n",
    "    if window_length is not None:\n",
    "        locator = MultipleLocator(window_length)\n",
    "        locator.MAXTICKS = 2000\n",
    "        signal_ax.xaxis.set_minor_locator(locator)\n",
    "    return signal_ax"
   ]
  },
  {
   "cell_type": "code",
   "execution_count": null,
   "id": "e6b9a275-2165-4e9f-b989-da83fd7cefa5",
   "metadata": {},
   "outputs": [],
   "source": [
    "def get_anomaly_regions(labels):\n",
    "    anomaly_starts = np.where(np.diff(labels) == 1)[0] + 1\n",
    "    anomaly_ends, = np.where(np.diff(labels) == -1)\n",
    "    if len(anomaly_ends):\n",
    "        if not len(anomaly_starts) or anomaly_ends[0] < anomaly_starts[0]:\n",
    "            # we started with an anomaly, so the start of the first anomaly is the start of the lables\n",
    "            anomaly_starts = np.concatenate([[0], anomaly_starts])\n",
    "    if len(anomaly_starts):\n",
    "        if not len(anomaly_ends) or anomaly_ends[-1] < anomaly_starts[-1]:\n",
    "            # we ended on an anomaly, so the end of the last anomaly is the end of the labels\n",
    "            anomaly_ends = np.concatenate([anomaly_ends, [len(labels) - 1]])\n",
    "    return list(zip(anomaly_starts, anomaly_ends))"
   ]
  },
  {
   "cell_type": "code",
   "execution_count": null,
   "id": "cbfbcc7e-470c-41bc-ac81-ccaae3829ccb",
   "metadata": {},
   "outputs": [],
   "source": []
  },
  {
   "cell_type": "code",
   "execution_count": null,
   "id": "dadebda1-d2b6-4816-96ba-241bbc7b8a86",
   "metadata": {},
   "outputs": [],
   "source": [
    "ad_flag.value_counts()"
   ]
  },
  {
   "cell_type": "code",
   "execution_count": null,
   "id": "91b81e09-5bbf-4c66-9c6e-46497d0c7dc6",
   "metadata": {},
   "outputs": [],
   "source": [
    "this_data"
   ]
  },
  {
   "cell_type": "code",
   "execution_count": null,
   "id": "6712dd10-da2b-493a-85dc-ff13bbbef8fa",
   "metadata": {},
   "outputs": [],
   "source": [
    "from joblib.parallel import Parallel, delayed\n",
    "from time import time\n",
    "\n",
    "def eval_one(row):\n",
    "    i, (name, values, ad_flag, ad_score, baseline) = row\n",
    "    values = pd.Series(values[1:-1].split(b\",\")).astype(float)\n",
    "    ad_score = np.abs(pd.Series(ad_score[1:-1].split(b\",\")).astype(float))\n",
    "    #ad_flag = pd.Series(ad_flag[1:-1].split(b\",\")).astype(float)\n",
    "\n",
    "    baseline = pd.Series(baseline[1:-1].split(b\",\")).astype(float)\n",
    "\n",
    "    this_data = pd.read_csv(\"benchmark_exp/TSB-AD/TSB-AD-U/\" + name + \".csv\")\n",
    "    label = this_data['Label']\n",
    "    assert np.allclose(this_data['Data'], values)\n",
    "    tick = time()\n",
    "    slidingWindow = find_length_rank(this_data.Data, rank=1)\n",
    "    evaluation_result = get_metrics(ad_score, label, slidingWindow=slidingWindow)\n",
    "    return name, evaluation_result, time - tick()"
   ]
  },
  {
   "cell_type": "code",
   "execution_count": null,
   "id": "23e706f7-25b1-4b18-9222-5ffaa5c6d2c5",
   "metadata": {},
   "outputs": [],
   "source": [
    "res = Parallel(n_jobs=-1, verbose=1)(delayed(eval_one)(row) for row in df.iterrows())"
   ]
  },
  {
   "cell_type": "code",
   "execution_count": null,
   "id": "30e0428c-9aa0-4c9c-8c8e-9dcc452a1f0a",
   "metadata": {},
   "outputs": [],
   "source": [
    "res_new = []\n",
    "for a, d in res:\n",
    "    d2 = d.copy()\n",
    "    d2['name'] = a\n",
    "    res_new.append(d2)"
   ]
  },
  {
   "cell_type": "code",
   "execution_count": null,
   "id": "62009ca8-08bf-4bb1-aa5a-0066da4324b1",
   "metadata": {},
   "outputs": [],
   "source": [
    "pd.DataFrame(res_new).to_csv(\"results_seasonal_decompose.csv\")"
   ]
  },
  {
   "cell_type": "code",
   "execution_count": null,
   "id": "c618fc82-133d-4cc3-b23d-001d9a04e992",
   "metadata": {},
   "outputs": [],
   "source": [
    "from TSB_AD.utils.slidingWindows import find_length_rank\n",
    "from tqdm import tqdm\n",
    "\n",
    "\n",
    "\n",
    "scores = {}\n",
    "for row in tqdm(list(df.iterrows())):\n",
    "    i, (name, values, ad_flag, ad_score, baseline) = row\n",
    "    values = pd.Series(values[1:-1].split(b\",\")).astype(float)\n",
    "    ad_score = np.abs(pd.Series(ad_score[1:-1].split(b\",\")).astype(float))\n",
    "    #ad_flag = pd.Series(ad_flag[1:-1].split(b\",\")).astype(float)\n",
    "\n",
    "    baseline = pd.Series(baseline[1:-1].split(b\",\")).astype(float)\n",
    "\n",
    "    this_data = pd.read_csv(\"benchmark_exp/TSB-AD/TSB-AD-U/\" + name + \".csv\")\n",
    "    label = this_data['Label']\n",
    "    assert np.allclose(this_data['Data'], values)\n",
    "    slidingWindow = find_length_rank(this_data.Data, rank=1)\n",
    "    evaluation_result = get_metrics(ad_score, label, slidingWindow=slidingWindow)\n",
    "    scores[name] = evaluation_result\n",
    "    #plot_detection(values, label, scores=ad_score)\n",
    "    #plot_detection(values, label, scores=ad_flag)"
   ]
  },
  {
   "cell_type": "code",
   "execution_count": null,
   "id": "4e189b74-7066-4b88-9d11-546780df8cf3",
   "metadata": {
    "tags": []
   },
   "outputs": [],
   "source": []
  },
  {
   "cell_type": "code",
   "execution_count": null,
   "id": "7344d259-dbf8-4a77-b7fa-ac1935b85944",
   "metadata": {},
   "outputs": [],
   "source": [
    "import matplotlib.pyplot as plt\n",
    "plt.plot(values, label=\"signal\")\n",
    "plt.plot(baseline, label=\"baseline\")\n",
    "plt.plot(ad_score, label=\"score\")\n",
    "plt.legend()"
   ]
  },
  {
   "cell_type": "code",
   "execution_count": null,
   "id": "84ebfb37-a8d5-4760-93c2-1720043fa5bb",
   "metadata": {},
   "outputs": [],
   "source": [
    "score"
   ]
  },
  {
   "cell_type": "code",
   "execution_count": null,
   "id": "966ab432-e81f-41a2-8139-57e007e08d9b",
   "metadata": {},
   "outputs": [],
   "source": [
    "this_data = pd.read_csv(\"benchmark_exp/TSB-AD/TSB-AD-U/\" + name + \".csv\")\n"
   ]
  },
  {
   "cell_type": "code",
   "execution_count": null,
   "id": "f5ce5167-d17f-4383-b55e-98892c071179",
   "metadata": {},
   "outputs": [],
   "source": [
    "this_data"
   ]
  },
  {
   "cell_type": "code",
   "execution_count": null,
   "id": "a95a3007-4d31-457b-bd43-7f54e1e5c18f",
   "metadata": {},
   "outputs": [],
   "source": []
  },
  {
   "cell_type": "code",
   "execution_count": null,
   "id": "7a924d8c-da01-4917-bbd2-6e6c8e059182",
   "metadata": {},
   "outputs": [],
   "source": []
  }
 ],
 "metadata": {
  "kernelspec": {
   "display_name": "Python [conda env:TSB-AD]",
   "language": "python",
   "name": "conda-env-TSB-AD-py"
  },
  "language_info": {
   "codemirror_mode": {
    "name": "ipython",
    "version": 3
   },
   "file_extension": ".py",
   "mimetype": "text/x-python",
   "name": "python",
   "nbconvert_exporter": "python",
   "pygments_lexer": "ipython3",
   "version": "3.12.4"
  }
 },
 "nbformat": 4,
 "nbformat_minor": 5
}
