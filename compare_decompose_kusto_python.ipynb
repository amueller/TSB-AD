{
 "cells": [
  {
   "cell_type": "code",
   "execution_count": null,
   "id": "3d90b027-5bd1-4a92-8459-e020ae2d0632",
   "metadata": {},
   "outputs": [],
   "source": [
    "import pandas as pd\n",
    "import numpy as np\n",
    "import matplotlib.pyplot as plt"
   ]
  },
  {
   "cell_type": "code",
   "execution_count": null,
   "id": "717b17fc-e3fc-4cce-94d2-bf9efb489d61",
   "metadata": {},
   "outputs": [],
   "source": [
    "\n",
    "interesting = \"\"\"784_OPPORTUNITY_S4-ADL5_1100_1200_col_id_17_1100_1200   -1.0\n",
    "789_OPPORTUNITY_S3-ADL5_1477_1577_col_id_5_1477_1577    -0.9\n",
    "799_OPPORTUNITY_S3-ADL4_895_995_col_id_49_895_995       -0.9\n",
    "796_OPPORTUNITY_S4-ADL2_2085_2185_col_id_17_2085_2185   -0.9\n",
    "781_OPPORTUNITY_S4-ADL2_2085_2185_col_id_37_2085_2185   -0.9\n",
    "057_UCR_Anomaly_InternalBleeding14_1875_5607             0.9\n",
    "237_Yahoo_A3Benchmark-TS22_data_500_730                  1.0\n",
    "256_Yahoo_A4Benchmark-TS66_data_500_202                  1.0\n",
    "247_Yahoo_A3Benchmark-TS38_data_500_151                  1.0\n",
    "265_Yahoo_A4Benchmark-TS87_data_500_1616                 1.0\"\"\".split(\"\\n\")\n",
    "interesting_datasets = [x.split(\" \")[0] for x in interesting]"
   ]
  },
  {
   "cell_type": "code",
   "execution_count": null,
   "id": "ea9f975a-90ea-423f-95e8-3b72ee05b879",
   "metadata": {},
   "outputs": [],
   "source": [
    "def load_series(files):\n",
    "    results = {}\n",
    "    for f in files:\n",
    "        df = pd.read_csv(\"benchmark_exp/TSB-AD/TSB-AD-U/\" + f + \".csv\")\n",
    "        results[f.split(\".\")[0]] = df\n",
    "    return results\n",
    "\n",
    "res = load_series(interesting_datasets)"
   ]
  },
  {
   "cell_type": "code",
   "execution_count": null,
   "id": "e53db9f2-8718-439f-92ba-e9c2849cdf5f",
   "metadata": {},
   "outputs": [],
   "source": [
    "seasonal_decompose = pd.read_csv(\"results_seasonal_decompose.csv\", index_col=0)\n",
    "seasonal_decompose['algorithm'] = \"seasonal decompose\"\n",
    "seasonal_decompose = seasonal_decompose.rename(columns={'name': 'dataset'})"
   ]
  },
  {
   "cell_type": "code",
   "execution_count": null,
   "id": "d05e7424-d569-487f-82d8-939544780cd2",
   "metadata": {},
   "outputs": [],
   "source": [
    "df = pd.read_parquet(\"dd2ab5d8-43f0-4a58-acf4-70285684f4be_0_49abff8e02de4e998b1ab9a30f3d7878.parquet\").set_index(\"DataSetName\")\n",
    "\n",
    "def get_score_sd(dataset):\n",
    "    score = df.loc[dataset, 'series_decompose_anomalies_Values_ad_score']\n",
    "    return np.abs(pd.Series(score[1:-1].split(b\",\")).astype(float))"
   ]
  },
  {
   "cell_type": "code",
   "execution_count": null,
   "id": "a58c1308-a536-448e-968b-482bdbfa6261",
   "metadata": {},
   "outputs": [],
   "source": [
    "def get_score(method, dataset):\n",
    "    return np.load(f\"benchmark_exp/score/uni/{method}/{d}.npy\")"
   ]
  },
  {
   "cell_type": "code",
   "execution_count": null,
   "id": "b5845264-6c8d-4664-b1a5-3458a93fdf36",
   "metadata": {},
   "outputs": [],
   "source": [
    "from TSB_AD.utils.slidingWindows import find_length_rank\n",
    "from utils import plot_detection\n",
    "from sklearn.metrics import average_precision_score\n",
    "import numpy as np\n",
    "\n",
    "for d in interesting_datasets:\n",
    "    score_SR = get_score(\"Decompose\", d)\n",
    "    window_length = find_length_rank(res[d]['Data'])\n",
    "    labels = res[d]['Label']\n",
    "    plot_detection(res[d]['Data'], labels, scores=score_SR, window_length=window_length)\n",
    "    plt.title(f\"Decompose {d} : {average_precision_score(labels, score_SR):.2f}  ({window_length})\")\n",
    "    score_SD = get_score_sd(d)\n",
    "    plot_detection(res[d]['Data'], labels, scores=score_SD, window_length=window_length)\n",
    "    plt.title(f\"Seasonal Decompose {d} :{average_precision_score(labels, score_SD):.2f} ({window_length})\")"
   ]
  },
  {
   "cell_type": "code",
   "execution_count": null,
   "id": "cfe638b3-c1c9-4a1d-b064-3374d951d919",
   "metadata": {},
   "outputs": [],
   "source": []
  }
 ],
 "metadata": {
  "kernelspec": {
   "display_name": "Python [conda env:TSB-AD]",
   "language": "python",
   "name": "conda-env-TSB-AD-py"
  },
  "language_info": {
   "codemirror_mode": {
    "name": "ipython",
    "version": 3
   },
   "file_extension": ".py",
   "mimetype": "text/x-python",
   "name": "python",
   "nbconvert_exporter": "python",
   "pygments_lexer": "ipython3",
   "version": "3.12.4"
  }
 },
 "nbformat": 4,
 "nbformat_minor": 5
}
