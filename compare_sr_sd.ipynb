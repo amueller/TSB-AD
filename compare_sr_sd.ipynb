{
 "cells": [
  {
   "cell_type": "code",
   "execution_count": null,
   "id": "40534949-0117-408b-8248-f0fe27f144d8",
   "metadata": {},
   "outputs": [],
   "source": [
    "import pandas as pd\n",
    "import numpy as np\n",
    "import matplotlib.pyplot as plt"
   ]
  },
  {
   "cell_type": "code",
   "execution_count": null,
   "id": "c21c047f-a031-4b87-97db-dcd80ccf23e6",
   "metadata": {},
   "outputs": [],
   "source": [
    "interesting = \"\"\"242_Yahoo_A2synthetic_66_data_500_893                             -1.0\n",
    "678_TODS_12_500_26                                                -0.8\n",
    "784_OPPORTUNITY_S4-ADL5_1100_1200_col_id_17_1100_1200             -0.8\n",
    "780_OPPORTUNITY_S2-ADL3_7295_27516_col_id_6_7295_27516            -0.8\n",
    "789_OPPORTUNITY_S3-ADL5_1477_1577_col_id_5_1477_1577              -0.8\n",
    "256_Yahoo_A4Benchmark-TS66_data_500_202                            0.5\n",
    "688_Exathlon_5_1_100000_63-33_10766_12590_col_id_27_10766_12590    0.6\n",
    "162_UCR_Anomaly_DISTORTEDInternalBleeding17_1875_3198              0.6\n",
    "267_Yahoo_A3Benchmark-TS94_data_500_577                            0.6\n",
    "265_Yahoo_A4Benchmark-TS87_data_500_1616                           1.0\"\"\".split(\"\\n\")"
   ]
  },
  {
   "cell_type": "code",
   "execution_count": null,
   "id": "f3d2812a-1f29-4bd9-9a01-d13b372a1ebd",
   "metadata": {},
   "outputs": [],
   "source": [
    "interesting_datasets = [x.split(\" \")[0] for x in interesting]"
   ]
  },
  {
   "cell_type": "code",
   "execution_count": null,
   "id": "a4ef34fc-8a46-4991-8c5d-ccdbea9cb134",
   "metadata": {},
   "outputs": [],
   "source": [
    "def load_series(files):\n",
    "    results = {}\n",
    "    for f in files:\n",
    "        df = pd.read_csv(\"benchmark_exp/TSB-AD/TSB-AD-U/\" + f + \".csv\")\n",
    "        results[f.split(\".\")[0]] = df\n",
    "    return results\n",
    "\n",
    "res = load_series(interesting_datasets)"
   ]
  },
  {
   "cell_type": "code",
   "execution_count": null,
   "id": "57ee1e67-3cfb-4d90-99ae-9e9d69eae6ce",
   "metadata": {},
   "outputs": [],
   "source": [
    "seasonal_decompose = pd.read_csv(\"results_seasonal_decompose.csv\", index_col=0)\n",
    "seasonal_decompose['algorithm'] = \"seasonal decompose\"\n",
    "seasonal_decompose = seasonal_decompose.rename(columns={'name': 'dataset'})"
   ]
  },
  {
   "cell_type": "code",
   "execution_count": null,
   "id": "cfad1aa7-c7bb-4a31-8834-ab649992127a",
   "metadata": {},
   "outputs": [],
   "source": [
    "df = pd.read_parquet(\"dd2ab5d8-43f0-4a58-acf4-70285684f4be_0_49abff8e02de4e998b1ab9a30f3d7878.parquet\").set_index(\"DataSetName\")\n",
    "\n",
    "def get_score_sd(dataset):\n",
    "    score = df.loc[dataset, 'series_decompose_anomalies_Values_ad_score']\n",
    "    return np.abs(pd.Series(score[1:-1].split(b\",\")).astype(float))"
   ]
  },
  {
   "cell_type": "code",
   "execution_count": null,
   "id": "55cb56c2-fd19-43ad-b9e4-a7d2853c7251",
   "metadata": {},
   "outputs": [],
   "source": [
    "def get_score(method, dataset):\n",
    "    return np.load(f\"benchmark_exp/score/uni/{method}/{d}.npy\")"
   ]
  },
  {
   "cell_type": "code",
   "execution_count": null,
   "id": "95e5f94e-d499-49dd-9568-6cd48fc1ee1e",
   "metadata": {},
   "outputs": [],
   "source": [
    "from TSB_AD.utils.slidingWindows import find_length_rank\n",
    "from utils import plot_detection\n",
    "from sklearn.metrics import average_precision_score\n",
    "\n",
    "for d in interesting_datasets:\n",
    "    score_SR = get_score(\"SR\", d)\n",
    "    window_length = find_length_rank(res[d]['Data'])\n",
    "    labels = res[d]['Label']\n",
    "    plot_detection(res[d]['Data'], labels, scores=score_SR, window_length=window_length)\n",
    "    plt.title(f\"SR {d} : {average_precision_score(labels, score_SR):.2f}  ({window_length})\")\n",
    "    score_SD = get_score_sd(d)\n",
    "    plot_detection(res[d]['Data'], labels, scores=score_SD, window_length=window_length)\n",
    "    plt.title(f\"Seasonal Decompose {d} :{average_precision_score(labels, score_SD):.2f} ({window_length})\")"
   ]
  },
  {
   "cell_type": "code",
   "execution_count": null,
   "id": "824d5ddd-c469-4ad1-b7d1-85572ec55f81",
   "metadata": {},
   "outputs": [],
   "source": []
  },
  {
   "cell_type": "code",
   "execution_count": null,
   "id": "78643952-6dbc-431a-9b99-ce17ea2b9764",
   "metadata": {},
   "outputs": [],
   "source": []
  }
 ],
 "metadata": {
  "kernelspec": {
   "display_name": "Python [conda env:TSB-AD]",
   "language": "python",
   "name": "conda-env-TSB-AD-py"
  },
  "language_info": {
   "codemirror_mode": {
    "name": "ipython",
    "version": 3
   },
   "file_extension": ".py",
   "mimetype": "text/x-python",
   "name": "python",
   "nbconvert_exporter": "python",
   "pygments_lexer": "ipython3",
   "version": "3.12.4"
  }
 },
 "nbformat": 4,
 "nbformat_minor": 5
}
