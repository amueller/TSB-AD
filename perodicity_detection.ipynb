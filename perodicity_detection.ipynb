{
 "cells": [
  {
   "cell_type": "code",
   "execution_count": null,
   "id": "6df7f4aa-b8bb-4924-aebd-3c2bfd5e1263",
   "metadata": {},
   "outputs": [],
   "source": [
    "import pandas as pd\n",
    "from statsmodels.tsa.seasonal import STL\n",
    "import pandas as pd\n",
    "import numpy as np\n",
    "from statsmodels.tsa.stattools import acf\n",
    "from scipy.signal import find_peaks, peak_prominences, peak_widths\n",
    "import numpy as np\n",
    "import matplotlib.pyplot as plt\n",
    "from tqdm import tqdm\n",
    "\n",
    "from joblib import Parallel, delayed\n",
    "\n",
    "from TSB_AD.utils.slidingWindows import argrelextrema\n",
    "from TSB_AD.utils.slidingWindows import find_length_rank\n",
    "\n",
    "\n",
    "def load_series(files):\n",
    "    results = {}\n",
    "    for f in files:\n",
    "        if not f.endswith(\".csv\"):\n",
    "            f = f + \".csv\"\n",
    "        df = pd.read_csv(\"benchmark_exp/TSB-AD/TSB-AD-U/\" + f)\n",
    "        results[f.split(\".\")[0]] = df\n",
    "    return results\n",
    "\n",
    "def find_length(data):\n",
    "    a, b = np.quantile(data, [0.001, 0.999])\n",
    "    data = np.clip(data, a, b)\n",
    "    \n",
    "    #data = data[:min(20000, len(data))]\n",
    "    n_lags = 5000\n",
    "    base = 3\n",
    "    auto_corr = acf(data, nlags=n_lags, fft=True)[base:]\n",
    "    try:\n",
    "        peaks, _ = find_peaks(auto_corr)\n",
    "        prominences = peak_prominences(auto_corr, peaks)[0]\n",
    "        peaks = peaks + base\n",
    "        prominent_peak_idx = np.argmax(prominences)\n",
    "    except:\n",
    "        return []\n",
    "    if prominences[prominent_peak_idx] < 0.1:\n",
    "        result = []\n",
    "    else:\n",
    "        highest_peak = np.argmax(auto_corr[peaks - base])\n",
    "        ac_of_prominent = auto_corr[peaks[prominent_peak_idx] - base]\n",
    "        # 99% significance level of autocorrelation\n",
    "        if ac_of_prominent < 2.576 / np.sqrt(len(data)):\n",
    "            return []\n",
    "        result = [peaks[prominent_peak_idx]]\n",
    "        if highest_peak != prominent_peak_idx and prominences[highest_peak] > 0.1:\n",
    "            result.append(peaks[highest_peak])\n",
    "    return result"
   ]
  },
  {
   "cell_type": "code",
   "execution_count": null,
   "id": "3749f99c-3abe-4ee4-9ae3-c245c71c050b",
   "metadata": {},
   "outputs": [],
   "source": [
    "val_data = load_series(pd.read_csv(\"benchmark_exp/TSB-AD/File-List/TSB-AD-U-Eval-List.csv\", header=0)['file_name'])"
   ]
  },
  {
   "cell_type": "code",
   "execution_count": null,
   "id": "085360c5-965a-4f6e-848f-45aaf69481fd",
   "metadata": {},
   "outputs": [],
   "source": [
    "len(val_data)"
   ]
  },
  {
   "cell_type": "code",
   "execution_count": null,
   "id": "cbade470-293b-4f45-bca9-d44db0ce26d8",
   "metadata": {},
   "outputs": [],
   "source": [
    "def iqr(s):\n",
    "    return s.quantile([0.75]).iloc[0] - s.quantile([0.25]).iloc[0]"
   ]
  },
  {
   "cell_type": "code",
   "execution_count": null,
   "id": "111f0ef4-1b73-4b43-9f0e-de4d7d2033d0",
   "metadata": {},
   "outputs": [],
   "source": [
    "def get_stl_score(name, series):\n",
    "    mine = find_length(series)\n",
    "    if not len(mine):\n",
    "        return name, None\n",
    "    mine = mine[0]\n",
    "    fit = STL(series, period=mine).fit()\n",
    "    residual_r2_score = 1 - (fit.resid ** 2).mean() / series.var()\n",
    "    \n",
    "    obs = np.maximum(iqr(fit.observed), 1e-5)\n",
    "    sea = iqr(fit.seasonal)\n",
    "    trend = iqr(fit.trend)\n",
    "    resid = iqr(fit.resid)\n",
    "    return name, {'r2': residual_r2_score, 'season_iqr': sea / obs, 'trend_iqr': trend / obs, 'res_iqr': resid / obs}"
   ]
  },
  {
   "cell_type": "code",
   "execution_count": null,
   "id": "1176f308-56ec-4930-ae46-cad72e3f109a",
   "metadata": {},
   "outputs": [],
   "source": [
    "scores = Parallel(n_jobs=-1)(delayed(get_stl_score)(name, s['Data']) for name, s in val_data.items())"
   ]
  },
  {
   "cell_type": "code",
   "execution_count": null,
   "id": "d36bab5b-9ab7-4023-ac35-8317a0654b98",
   "metadata": {
    "tags": []
   },
   "outputs": [],
   "source": [
    "scores_dict = {a[0]:a[1] for a in scores if a is not None}"
   ]
  },
  {
   "cell_type": "code",
   "execution_count": null,
   "id": "dbf53321-633f-4501-a1a8-c3028c3db84e",
   "metadata": {},
   "outputs": [],
   "source": [
    "lengths_list = []\n",
    "for name, s in val_data.items():\n",
    "    data = s['Data']\n",
    "    n_lags = 5000\n",
    "    autocorr = acf(data, nlags=n_lags, fft=True)\n",
    "    mine = find_length(data)\n",
    "    if len(mine) == 2:\n",
    "        mine, second = mine\n",
    "    elif len(mine):\n",
    "        mine, second = mine[0], None\n",
    "    else:\n",
    "        mine, second = None, None\n",
    "    theirs = find_length_rank(data)\n",
    "    length = len(data)\n",
    "\n",
    "    if mine is not None:\n",
    "        mine_sig = autocorr[mine] > 2.576 / np.sqrt(length)\n",
    "    else:\n",
    "        mine_sig = False\n",
    "    theirs_sig = autocorr[theirs] > 2.576 / np.sqrt(length)\n",
    "\n",
    "    this_res = {'name': name, 'mine': mine, 'second': second, 'theirs': theirs, 'length': len(data), 'mine_sig': mine_sig, 'theirs_sig': theirs_sig}\n",
    "    if mine is not None:\n",
    "        this_res.update(scores_dict[name])\n",
    "    lengths_list.append(this_res)"
   ]
  },
  {
   "cell_type": "code",
   "execution_count": null,
   "id": "a3ce5394-5998-4f6e-89a5-c8cb8f1073de",
   "metadata": {},
   "outputs": [],
   "source": [
    "lengths = pd.DataFrame(lengths_list)\n",
    "lengths"
   ]
  },
  {
   "cell_type": "code",
   "execution_count": null,
   "id": "173e340d-3db1-4ee5-9054-a66d7b53a2e8",
   "metadata": {},
   "outputs": [],
   "source": [
    "lengths.to_csv(\"series_length_debugging_iqr.csv\")"
   ]
  },
  {
   "cell_type": "code",
   "execution_count": null,
   "id": "c5fb121b-c53e-4ef9-86cf-d75b78656a6f",
   "metadata": {},
   "outputs": [],
   "source": [
    "lengths['score'] = np.maximum(0, lengths['score'])"
   ]
  },
  {
   "cell_type": "code",
   "execution_count": null,
   "id": "888ca96c-62dd-4562-aa05-bcc462a27e24",
   "metadata": {},
   "outputs": [],
   "source": [
    "(lengths.score < .5).sum()"
   ]
  },
  {
   "cell_type": "code",
   "execution_count": null,
   "id": "b3a40e93-1cd8-4af5-b304-34d7f9ce4bee",
   "metadata": {},
   "outputs": [],
   "source": [
    "lengths.score.hist(bins=30)"
   ]
  },
  {
   "cell_type": "code",
   "execution_count": null,
   "id": "615f1b17-d03b-4467-8a28-e315e0d7bfa3",
   "metadata": {},
   "outputs": [],
   "source": [
    "weird = lengths[~lengths.mine.isna() & ~lengths['mine_sig']]\n",
    "weird"
   ]
  },
  {
   "cell_type": "code",
   "execution_count": null,
   "id": "78eb6538-f75b-4425-9606-0e8d522c3695",
   "metadata": {},
   "outputs": [],
   "source": [
    "interesting = lengths[lengths['score'] < 0.5]\n",
    "interesting[::5][:30]"
   ]
  },
  {
   "cell_type": "code",
   "execution_count": null,
   "id": "0ee0b4de-f6a4-4623-a9fa-491a5290324b",
   "metadata": {},
   "outputs": [],
   "source": [
    "gah = ['025_UCR_Anomaly_CIMIS44AirTemperature1_2046_5391',\n",
    "       '029_UCR_Anomaly_ECG2_7500_16000',\n",
    "       '033_UCR_Anomaly_Italianpowerdemand_7482_29480',\n",
    "       '036_UCR_Anomaly_insectEPG3_2499_7000',\n",
    "       '051_UCR_Anomaly_DISTORTEDresperation4_48812_128430',\n",
    "       '080_UCR_Anomaly_gait1_16250_38500',\n",
    "       '085_UCR_Anomaly_Italianpowerdemand_29895_39240',\n",
    "       '107_UCR_Anomaly_gait3_16250_59900',\n",
    "       '154_UCR_Anomaly_resperation11_48750_110800',\n",
    "       '208_UCR_Anomaly_DISTORTEDresperation1_50000_110260',\n",
    "       '216_UCR_Anomaly_resperation10_48750_130700',\n",
    "       '228_UCR_Anomaly_taichidbS0715Master_50000_884100',\n",
    "       '504_IOPS_KPI-8723f0fb-eaef-32e6-b372-6034c9c04b80_5578_5678',\n",
    "       '506_IOPS_KPI-6d1114ae-be04-3c46-b5aa-be1a003a57cd_8620_8720',\n",
    "       '507_IOPS_KPI-301c70d8-1630-35ac-8f96-bc1b6f4359ea_1483_1583',\n",
    "       '508_IOPS_KPI-e0747cad-8dc8-38a9-a9ab-855b61f5551d_500_341',\n",
    "       '509_IOPS_KPI-0efb375b-b902-3661-ab23-9a0bb799f4e3_500_264',\n",
    "       '515_IOPS_KPI-ab216663-dcc2-3a24-b1ee-2c3e550e06c9_500_77',\n",
    "       '517_IOPS_KPI-8723f0fb-eaef-32e6-b372-6034c9c04b80_5638_5738',\n",
    "       '530_WSD_150_4521_4599', '532_WSD_171_643_743', '533_WSD_168_4521_6454',\n",
    "       '534_WSD_187_4559_12588', '538_WSD_153_500_276',\n",
    "       '540_WSD_104_2411_2511', '544_WSD_191_4559_9714', '545_WSD_37_500_78',\n",
    "       '548_WSD_57_4521_6828', '549_WSD_154_1129_1229', '554_WSD_184_500_53']"
   ]
  },
  {
   "cell_type": "code",
   "execution_count": null,
   "id": "c1105047-85b6-4f80-a7cb-c567bc9d8142",
   "metadata": {},
   "outputs": [],
   "source": [
    "for _, (n, m, snd, t, l, ms, ts, score) in list(lengths.iterrows()):\n",
    "    if n not in gah:\n",
    "        continue\n",
    "    plt.figure(figsize=(20, 5))\n",
    "    plt.title(f\"{n} mine: {m} ({ms}) second: {snd} theirs: {t} ({ts}) score {score}\")\n",
    "    s = val_data[n]['Data']\n",
    "    if not np.isnan(m):\n",
    "        m = int(m)\n",
    "        plt.vlines(np.arange(0, len(s), int(m)), label=\"mine\", ymin=s.min(), ymax=s.max(), alpha=0.5, color='green')\n",
    "    if not np.isnan(snd):\n",
    "        plt.vlines(np.arange(0, len(s), int(snd)), label=\"mine\", ymin=s.min(), ymax=s.max(), alpha=0.5, color='green')\n",
    "    # plt.vlines(np.arange(0, len(s), t), label=\"theirs\", ymin=s.min(), ymax=s.max(), alpha=0.5, color='red')\n",
    "    s.plot()\n",
    "    plt.figure(figsize=(20, 5))\n",
    "    n_lags = min(5000, 20 * max(m, t))\n",
    "    autocorr = acf(s, nlags=n_lags, fft=True)\n",
    "    plt.plot(autocorr)\n",
    "    peaks, _ = find_peaks(autocorr)\n",
    "    if len(peaks):\n",
    "        prominences = peak_prominences(autocorr, peaks)[0]\n",
    "        widths = peak_widths(autocorr, peaks)[0]\n",
    "        for i, p in enumerate(peaks[:10]):\n",
    "            plt.text(p, autocorr[p], f\"p: {prominences[i]:.2f} w: {widths[i]:.2f}\")\n",
    "        prominent_peak_idx = np.argmax(prominences)\n",
    "        # msg = \"\"\n",
    "        # if widths[prominent_peak_idx] > peaks[prominent_peak_idx]:\n",
    "        #     msg = msg + \" early\"\n",
    "        # if prominences[prominent_peak_idx] < 0.1:\n",
    "        #     msg = msg + \" too low\"\n",
    "        # plt.title(msg)\n",
    "        plt.text(peaks[prominent_peak_idx], autocorr[peaks[prominent_peak_idx]], f\"p: {prominences[prominent_peak_idx]:.2f} w: {widths[prominent_peak_idx]:.2f}\")\n",
    "        plt.plot(peaks, autocorr[peaks], 'o', c='k')\n",
    "    plt.hlines([2.576 / np.sqrt(len(s))], xmin=0, xmax=len(autocorr))\n",
    "    if not np.isnan(m):\n",
    "        plt.plot([m], autocorr[m], 'o', c='g')\n",
    "    plt.plot([t], autocorr[t], 'o', c='r')"
   ]
  },
  {
   "cell_type": "code",
   "execution_count": null,
   "id": "325cc859-83b7-473d-b376-da1678155b00",
   "metadata": {},
   "outputs": [],
   "source": []
  },
  {
   "cell_type": "code",
   "execution_count": null,
   "id": "5d3afcc6-9e9f-41cb-86b7-14de7d333cc5",
   "metadata": {},
   "outputs": [],
   "source": []
  }
 ],
 "metadata": {
  "kernelspec": {
   "display_name": "Python [conda env:TSB-AD]",
   "language": "python",
   "name": "conda-env-TSB-AD-py"
  },
  "language_info": {
   "codemirror_mode": {
    "name": "ipython",
    "version": 3
   },
   "file_extension": ".py",
   "mimetype": "text/x-python",
   "name": "python",
   "nbconvert_exporter": "python",
   "pygments_lexer": "ipython3",
   "version": "3.12.4"
  }
 },
 "nbformat": 4,
 "nbformat_minor": 5
}
