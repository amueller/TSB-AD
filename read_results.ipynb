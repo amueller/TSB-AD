{
 "cells": [
  {
   "cell_type": "code",
   "execution_count": null,
   "id": "f985fdd4-fef9-4722-8bda-6758fd002344",
   "metadata": {},
   "outputs": [],
   "source": [
    "from glob import glob\n",
    "import pandas as pd\n",
    "from os import path\n",
    "import seaborn as sns"
   ]
  },
  {
   "cell_type": "code",
   "execution_count": null,
   "id": "2b1aff55-9419-4230-b641-43b4e4269c66",
   "metadata": {},
   "outputs": [],
   "source": [
    "pd.read_csv(\"benchmark_exp/eval/uni/SRCNN.csv\").file.str.removesuffix(\".csv\")"
   ]
  },
  {
   "cell_type": "code",
   "execution_count": null,
   "id": "9ef2c5e4-ff6b-4d35-b63e-85c3d65ddbe1",
   "metadata": {
    "tags": []
   },
   "outputs": [],
   "source": [
    "dfs = []\n",
    "for f in glob(\"benchmark_exp/eval/uni/*.csv\"):\n",
    "    print(f)\n",
    "    new_df = pd.read_csv(f)\n",
    "    new_df['dataset'] = new_df.file.str.removesuffix(\".csv\")\n",
    "    algorithm = path.basename(f).split(\".\")[0]\n",
    "    new_df['algorithm'] = algorithm\n",
    "    dfs.append(new_df)"
   ]
  },
  {
   "cell_type": "code",
   "execution_count": null,
   "id": "190da879-84ea-4d2d-b194-4f88b21f2032",
   "metadata": {},
   "outputs": [],
   "source": [
    "all_results = pd.concat(dfs, ignore_index=True).set_index([\"dataset\", \"algorithm\"])"
   ]
  },
  {
   "cell_type": "code",
   "execution_count": null,
   "id": "b87d5535-cb35-4a3c-be06-b895166189a1",
   "metadata": {},
   "outputs": [],
   "source": [
    "pd.concat(dfs, ignore_index=True).groupby(\"algorithm\")['dataset'].value_counts().unstack(\"algorithm\").dropna().shape"
   ]
  },
  {
   "cell_type": "code",
   "execution_count": null,
   "id": "9b605d40-ae3e-4ed6-9459-53092c880b35",
   "metadata": {},
   "outputs": [],
   "source": [
    "all_results.unstack(\"algorithm\")"
   ]
  },
  {
   "cell_type": "code",
   "execution_count": null,
   "id": "6a4ce844-1e83-4bd6-a3c8-4a8d23533e6e",
   "metadata": {},
   "outputs": [],
   "source": [
    "all_results.shape"
   ]
  },
  {
   "cell_type": "code",
   "execution_count": null,
   "id": "114f5e62-6fdf-4f6d-8df7-e9f5a9f0fffe",
   "metadata": {},
   "outputs": [],
   "source": [
    "# drop extra rows that are in SRCNN\n",
    "all_results = all_results.unstack(\"algorithm\").dropna(subset=[(\"file\", 'Sub_KNN')]).stack(\"algorithm\", future_stack=True)"
   ]
  },
  {
   "cell_type": "code",
   "execution_count": null,
   "id": "773d3e3a-4213-40c7-8bca-6846935678b9",
   "metadata": {},
   "outputs": [],
   "source": [
    "pwd"
   ]
  },
  {
   "cell_type": "code",
   "execution_count": null,
   "id": "361e361d-6f38-4ee9-b68c-d4431f4dc69a",
   "metadata": {
    "tags": []
   },
   "outputs": [],
   "source": [
    "files = all_results.file.unique()\n",
    "\n",
    "def load_series(files):\n",
    "    results = {}\n",
    "    for f in files:\n",
    "        if not f.endswith(\".csv\"):\n",
    "            # extra files from Joel\n",
    "            continue\n",
    "        df = pd.read_csv(\"benchmark_exp/TSB-AD/TSB-AD-U/\" + f)\n",
    "        results[f.split(\".\")[0]] = df\n",
    "    return results\n",
    "\n",
    "res = load_series(files)"
   ]
  },
  {
   "cell_type": "code",
   "execution_count": null,
   "id": "4c8854a4-a83a-47c5-af6c-8447e8652c36",
   "metadata": {},
   "outputs": [],
   "source": []
  },
  {
   "cell_type": "code",
   "execution_count": null,
   "id": "c0490f50-e253-429b-ae99-550429dd12b9",
   "metadata": {},
   "outputs": [],
   "source": [
    "periodicity = pd.read_csv(\"series_length_debugging_iqr.csv\")"
   ]
  },
  {
   "cell_type": "code",
   "execution_count": null,
   "id": "63d8da2a-7d0b-44ff-add7-9194be32040c",
   "metadata": {},
   "outputs": [],
   "source": [
    "import matplotlib.pyplot as plt\n",
    "import matplotlib.patches as patches\n",
    "from matplotlib.ticker import MultipleLocator\n",
    "import numpy as np\n",
    "\n",
    "\n",
    "def plot_detection(signal, label, scores=None, train=None, ax=None, linewidth=1, window_length=None):\n",
    "    if train is not None:\n",
    "        if signal.index.min() < train.index.max():\n",
    "            signal.index = signal.index + train.index.max()\n",
    "    scores = pd.Series(scores, index=signal.index)\n",
    "    label = pd.Series(np.array(label), index=signal.index)\n",
    "    if ax is None:\n",
    "        plt.figure(figsize=(40, 5), dpi=300)\n",
    "        signal_ax = plt.gca()\n",
    "    else:\n",
    "        signal_ax = ax\n",
    "    signal_ax.set_ylabel(\"signal\")\n",
    "    a, = signal_ax.plot(signal, label='signal', c='k', linewidth=linewidth)\n",
    "    b = None\n",
    "    if train is not None:\n",
    "        signal_ax.plot(train, label='train', c='grey', linewidth=linewidth)\n",
    "    if scores is not None:\n",
    "        scores_ax = plt.twinx(signal_ax)\n",
    "        b, = scores_ax.plot(scores, label='scores', c='b', alpha=0.5, linewidth=linewidth)\n",
    "        scores_ax.set_ylabel(\"scores\")\n",
    "    ylims = signal_ax.get_ylim()\n",
    "    yrange = ylims[1] - ylims[0]\n",
    "    ymin = ylims[0] - 0.1 * yrange\n",
    "    ymax = ylims[1] + 0.1 * yrange\n",
    "    signal_ax.set_ylim(ymin, ymax)\n",
    "    for start, end in get_anomaly_regions(label):\n",
    "        width = end - start\n",
    "        thin_thresh = len(label) / 1e3\n",
    "        width = np.maximum(width, thin_thresh)\n",
    "        signal_ax.add_patch(patches.Rectangle((start, ylims[0]), width, ylims[1] - ylims[0], facecolor='red', alpha=0.4))\n",
    "    red_patch = patches.Patch(color='red', label='anomaly', alpha=0.3)\n",
    "    plt.legend(handles=[a, b, red_patch] if b is not None else [a, red_patch])\n",
    "    if window_length is not None:\n",
    "        locator = MultipleLocator(window_length)\n",
    "        locator.MAXTICKS = 2000\n",
    "        signal_ax.xaxis.set_minor_locator(locator)\n",
    "    return signal_ax\n",
    "\n",
    "def get_anomaly_regions(labels):\n",
    "    anomaly_starts = np.where(np.diff(labels) == 1)[0] + 1\n",
    "    anomaly_ends, = np.where(np.diff(labels) == -1)\n",
    "    if len(anomaly_ends):\n",
    "        if not len(anomaly_starts) or anomaly_ends[0] < anomaly_starts[0]:\n",
    "            # we started with an anomaly, so the start of the first anomaly is the start of the lables\n",
    "            anomaly_starts = np.concatenate([[0], anomaly_starts])\n",
    "    if len(anomaly_starts):\n",
    "        if not len(anomaly_ends) or anomaly_ends[-1] < anomaly_starts[-1]:\n",
    "            # we ended on an anomaly, so the end of the last anomaly is the end of the labels\n",
    "            anomaly_ends = np.concatenate([anomaly_ends, [len(labels) - 1]])\n",
    "    return list(zip(anomaly_starts, anomaly_ends))\n",
    "\n",
    "    "
   ]
  },
  {
   "cell_type": "code",
   "execution_count": null,
   "id": "fb0a91de-8646-4d8a-bcc6-85e980aa9f6e",
   "metadata": {},
   "outputs": [],
   "source": [
    "plot_detection(res['001_NAB_data_Traffic_4_624_2087']['Data'], res['001_NAB_data_Traffic_4_624_2087']['Label'])"
   ]
  },
  {
   "cell_type": "code",
   "execution_count": null,
   "id": "7e2dfe8f-4132-43d6-a521-33352a31999a",
   "metadata": {},
   "outputs": [],
   "source": [
    "all_results['AUC-PR'].unstack(\"algorithm\").plot(kind=\"box\", rot=90)"
   ]
  },
  {
   "cell_type": "code",
   "execution_count": null,
   "id": "bdbd876c-82dc-439a-a1c5-56436b351844",
   "metadata": {},
   "outputs": [],
   "source": [
    "auc_pr_ranks = all_results['AUC-PR'].unstack(\"algorithm\").rank(axis=1, ascending=False)\n",
    "auc_pr_ranks"
   ]
  },
  {
   "cell_type": "code",
   "execution_count": null,
   "id": "24a703b1-a3e8-4795-bc2f-218f64baccf4",
   "metadata": {},
   "outputs": [],
   "source": []
  },
  {
   "cell_type": "code",
   "execution_count": null,
   "id": "a2e9b766-037f-49c2-a560-d53d5e8cb673",
   "metadata": {},
   "outputs": [],
   "source": [
    "rank_order = auc_pr_ranks.median().sort_values().index\n",
    "sns.boxplot(auc_pr_ranks, orient='h', order=rank_order)"
   ]
  },
  {
   "cell_type": "code",
   "execution_count": null,
   "id": "12b057a9-62c3-44c5-8edf-bd57b0957218",
   "metadata": {},
   "outputs": [],
   "source": [
    "from TSB_AD.cd_plot.cd_plot_code import cd_evaluation\n",
    "import matplotlib.pyplot as plt\n",
    "\n",
    "plt.figure(figsize=(16,  4* 2), dpi=300)\n",
    "_ = cd_evaluation(all_results['AUC-PR'].unstack(\"algorithm\"), maximize_metric=True, ax=plt.gca())\n",
    "plt.title(\"AUC-PR\")"
   ]
  },
  {
   "cell_type": "code",
   "execution_count": null,
   "id": "7e50e639-bab4-400e-8b4f-48097da7fdec",
   "metadata": {},
   "outputs": [],
   "source": [
    "seasonal_decompose = pd.read_csv(\"results_seasonal_decompose.csv\", index_col=0)\n",
    "seasonal_decompose['algorithm'] = \"seasonal decompose\"\n",
    "seasonal_decompose = seasonal_decompose.rename(columns={'name': 'dataset'})"
   ]
  },
  {
   "cell_type": "code",
   "execution_count": null,
   "id": "d5c95726-a25a-4e66-b0b5-8c21dc6ae404",
   "metadata": {},
   "outputs": [],
   "source": [
    "seasonal_decompose"
   ]
  },
  {
   "cell_type": "code",
   "execution_count": null,
   "id": "bb95a17b-6510-4d82-875f-a925f0606316",
   "metadata": {},
   "outputs": [],
   "source": [
    "seasonal_decompose"
   ]
  },
  {
   "cell_type": "code",
   "execution_count": null,
   "id": "cfb78a91-91a2-48b4-a064-02690c5863d8",
   "metadata": {},
   "outputs": [],
   "source": [
    "all_results_sd = pd.concat([all_results, seasonal_decompose.set_index([\"dataset\", \"algorithm\"])])"
   ]
  },
  {
   "cell_type": "code",
   "execution_count": null,
   "id": "fd51ebe5-2753-456b-ab2d-5b7446d06da6",
   "metadata": {},
   "outputs": [],
   "source": [
    "sd_subset = all_results_sd['AUC-PR'].unstack(\"algorithm\").dropna(subset=\"seasonal decompose\")"
   ]
  },
  {
   "cell_type": "code",
   "execution_count": null,
   "id": "877eb154-442a-40be-a161-135544873f50",
   "metadata": {},
   "outputs": [],
   "source": [
    "plt.figure(figsize=(16,  4* 2), dpi=300)\n",
    "_ = cd_evaluation(sd_subset, maximize_metric=True, ax=plt.gca())\n",
    "plt.title(\"AUC-PR\")"
   ]
  },
  {
   "cell_type": "code",
   "execution_count": null,
   "id": "d037e097-b7e5-4170-8f67-c86374a5f926",
   "metadata": {},
   "outputs": [],
   "source": []
  },
  {
   "cell_type": "code",
   "execution_count": null,
   "id": "af06e1cf-3580-408d-93c0-09eab112cd1d",
   "metadata": {},
   "outputs": [],
   "source": [
    "sd_subset_pretty = sd_subset.T.drop(index=[\"Random2\", \"PCA\", \"KNN\", \"LOF\", \"Donut\", \"FITS\", \"HBOS\", \"SRCNN\"]).rename(index=lambda x: x.replace(\"Sub_\", \"Window \"))\n",
    "sd_subset_pretty"
   ]
  },
  {
   "cell_type": "code",
   "execution_count": null,
   "id": "5e5271d7-319d-4d33-bace-e7987009fdcb",
   "metadata": {},
   "outputs": [],
   "source": [
    "comparison = sd_subset_pretty.T[['SR', 'seasonal decompose', 'Decompose']]"
   ]
  },
  {
   "cell_type": "code",
   "execution_count": null,
   "id": "9e555e6d-1cd2-4f55-b6e7-eb0d6e5e434c",
   "metadata": {},
   "outputs": [],
   "source": [
    "(comparison['SR'] - comparison['seasonal decompose']).sort_values()"
   ]
  },
  {
   "cell_type": "code",
   "execution_count": null,
   "id": "ea3f325f-bf2f-4a6a-8d79-e74406bcd7cf",
   "metadata": {},
   "outputs": [],
   "source": [
    "(comparison['Decompose'] - comparison['seasonal decompose']).sort_values()"
   ]
  },
  {
   "cell_type": "code",
   "execution_count": null,
   "id": "301ec1f7-71c2-4284-a7ef-add66b27b937",
   "metadata": {},
   "outputs": [],
   "source": [
    "periodicity"
   ]
  },
  {
   "cell_type": "code",
   "execution_count": null,
   "id": "bedaccdf-d866-4588-927d-11fa2789392d",
   "metadata": {},
   "outputs": [],
   "source": [
    "subset_merged = sd_subset_pretty.T.merge(periodicity[['name', 'mine_sig', 'score']], left_on=\"dataset\", right_on=\"name\")\n",
    "subset_merged['score'] = subset_merged['score'].fillna(0)\n",
    "subset_merged['mine_sig'] = subset_merged['mine_sig'].astype(float)\n",
    "subset_merged = subset_merged.set_index(\"name\").drop(columns=\"mine_sig\")"
   ]
  },
  {
   "cell_type": "code",
   "execution_count": null,
   "id": "8317d682-1d0c-409e-8bee-e39e7116e311",
   "metadata": {},
   "outputs": [],
   "source": [
    "subset_merged"
   ]
  },
  {
   "cell_type": "code",
   "execution_count": null,
   "id": "f7738959-0f12-49a0-b3d0-033a66652611",
   "metadata": {},
   "outputs": [],
   "source": [
    "cm = sns.clustermap(subset_merged.T, figsize=(15, 20), standard_scale=1, cbar_pos=(0.98, 0.85, 0.01, 0.1), method=\"ward\", dendrogram_ratio=0.1)\n",
    "cm.ax_heatmap.set_xticklabels(());"
   ]
  },
  {
   "cell_type": "code",
   "execution_count": null,
   "id": "ccde55bc-8c02-47c1-a125-f85af935dc3d",
   "metadata": {},
   "outputs": [],
   "source": [
    "cm = sns.clustermap(sd_subset_pretty, figsize=(15, 20), standard_scale=1, cbar_pos=(0.98, 0.85, 0.01, 0.1), method=\"ward\", dendrogram_ratio=0.1)\n",
    "cm.ax_heatmap.set_xticklabels(());"
   ]
  },
  {
   "cell_type": "code",
   "execution_count": null,
   "id": "310b4ee7-8a40-4fe9-9e28-e31f2487b737",
   "metadata": {},
   "outputs": [],
   "source": [
    "plt.figure(figsize=(16,  4* 2), dpi=300)\n",
    "_ = cd_evaluation(all_results['PA-F1'].unstack(\"algorithm\"), maximize_metric=True, ax=plt.gca())\n",
    "plt.title(\"Adjusted F1\")"
   ]
  },
  {
   "cell_type": "code",
   "execution_count": null,
   "id": "2486889e-eb0b-45de-aca8-af7be738f6cc",
   "metadata": {},
   "outputs": [],
   "source": [
    "ranks = all_results.drop(columns=[\"file\", \"Time\"]).unstack(\"dataset\").rank(ascending=False).stack(\"dataset\").unstack(\"algorithm\").mean().unstack().T"
   ]
  },
  {
   "cell_type": "code",
   "execution_count": null,
   "id": "c7dbffa1-a0d3-4771-8ed9-d4f6cfde5a15",
   "metadata": {},
   "outputs": [],
   "source": [
    "\n",
    "pd.set_option(\"display.precision\", 1)\n",
    "ranks.sort_values(\"AUC-PR\")"
   ]
  },
  {
   "cell_type": "code",
   "execution_count": null,
   "id": "923c8af5-0d18-48c7-9eb3-81b7f01661fb",
   "metadata": {},
   "outputs": [],
   "source": [
    "plt.figure(figsize=(16,  4* 2), dpi=300)\n",
    "_ = cd_evaluation(all_results['AUC-ROC'].unstack(\"algorithm\"), maximize_metric=True, ax=plt.gca())\n",
    "plt.title(\"AUC-ROC\")"
   ]
  },
  {
   "cell_type": "code",
   "execution_count": null,
   "id": "24ab0afa-0ea4-431d-a394-c7a749e6a98f",
   "metadata": {},
   "outputs": [],
   "source": [
    "plt.figure(figsize=(16,  4* 2), dpi=300)\n",
    "_ = cd_evaluation(all_results['VUS-ROC'].unstack(\"algorithm\"), maximize_metric=True, ax=plt.gca())\n",
    "plt.title(\"VUS-ROC\")"
   ]
  },
  {
   "cell_type": "code",
   "execution_count": null,
   "id": "063ef43b-b665-403c-8210-fead79378273",
   "metadata": {},
   "outputs": [],
   "source": [
    "plt.figure(figsize=(16,  4* 2), dpi=300)\n",
    "_ = cd_evaluation(all_results['VUS-PR'].unstack(\"algorithm\"), maximize_metric=True, ax=plt.gca())\n",
    "plt.title(\"VUS-PR\")"
   ]
  },
  {
   "cell_type": "code",
   "execution_count": null,
   "id": "1f616d8c-35bb-48ea-9e58-5474648902ee",
   "metadata": {},
   "outputs": [],
   "source": [
    "import numpy as np"
   ]
  },
  {
   "cell_type": "code",
   "execution_count": null,
   "id": "605c1879-59fe-4cb5-b867-e3431d58d4de",
   "metadata": {},
   "outputs": [],
   "source": [
    "plt.figure(figsize=(16,  4* 2), dpi=300)\n",
    "_ = cd_evaluation(all_results['PA-F1'].unstack(\"algorithm\"), maximize_metric=True, ax=plt.gca())\n",
    "plt.title(\"PA-F1\")"
   ]
  },
  {
   "cell_type": "code",
   "execution_count": null,
   "id": "cdfdd19a-90cb-473a-bff8-0cd4bac36a7d",
   "metadata": {},
   "outputs": [],
   "source": [
    "from benchmark_exp.HP_list import Optimal_Uni_algo_HP_dict"
   ]
  },
  {
   "cell_type": "code",
   "execution_count": null,
   "id": "95910914-b1ae-485e-8cec-1dbc98626a0b",
   "metadata": {},
   "outputs": [],
   "source": [
    "algs = all_results.index.levels[1]"
   ]
  },
  {
   "cell_type": "code",
   "execution_count": null,
   "id": "d95cf7aa-856f-491f-a185-6e4ec0ab253c",
   "metadata": {},
   "outputs": [],
   "source": [
    "[x for x in Optimal_Uni_algo_HP_dict.keys() if x not in algs]"
   ]
  },
  {
   "cell_type": "code",
   "execution_count": null,
   "id": "9107539d-c0da-48b5-b139-6f1001ee7e9b",
   "metadata": {},
   "outputs": [],
   "source": [
    "vus_pr_ranks = all_results['VUS-PR'].unstack(\"algorithm\").rank(axis=1, ascending=False)\n",
    "vus_rank_order = vus_pr_ranks.median().sort_values().index\n",
    "sns.boxplot(vus_pr_ranks, orient='h', order=vus_rank_order)"
   ]
  },
  {
   "cell_type": "code",
   "execution_count": null,
   "id": "58e0cf2b-8e73-4654-b351-1e7aafe25b22",
   "metadata": {},
   "outputs": [],
   "source": [
    "#sns.clustermap(all_results['VUS-PR'].unstack(\"algorithm\"), figsize=(20, 20))"
   ]
  },
  {
   "cell_type": "code",
   "execution_count": null,
   "id": "668b1e07-f3f0-4e98-b339-b0dc4eda77d9",
   "metadata": {
    "tags": []
   },
   "outputs": [],
   "source": [
    "# sns.clustermap(all_results['VUS-PR'].unstack(\"algorithm\").rank(axis=1, ascending=False), figsize=(15, 20))"
   ]
  },
  {
   "cell_type": "code",
   "execution_count": null,
   "id": "11e19e91-c546-4aca-8118-3a40f392e71a",
   "metadata": {},
   "outputs": [],
   "source": [
    "auc_pr = all_results['AUC-ROC'].unstack(\"algorithm\").T\n",
    "cm = sns.clustermap(auc_pr, figsize=(15, 20), standard_scale=1, cbar_pos=(0.9, 0.8, 0.01, 0.1))\n",
    "cm.ax_heatmap.set_xticklabels(());"
   ]
  },
  {
   "cell_type": "code",
   "execution_count": null,
   "id": "cdbf2449-fb06-47a2-971f-185d26433d40",
   "metadata": {
    "tags": []
   },
   "outputs": [],
   "source": [
    "vus_pr = all_results['VUS-PR'].unstack(\"algorithm\").T\n",
    "cm = sns.clustermap(vus_pr, figsize=(15, 20), standard_scale=1, cbar_pos=(0.9, 0.8, 0.01, 0.1))\n",
    "cm.ax_heatmap.set_xticklabels(());"
   ]
  },
  {
   "cell_type": "code",
   "execution_count": null,
   "id": "806b1040-f880-4b5e-9c7a-d4d58c055360",
   "metadata": {
    "tags": []
   },
   "outputs": [],
   "source": [
    "# auc_pr = all_results['PA-F1'].unstack(\"algorithm\").T\n",
    "# cm = sns.clustermap(auc_pr, figsize=(15, 20), standard_scale=1, cbar_pos=(0.9, 0.8, 0.01, 0.1))\n",
    "# cm.ax_heatmap.set_xticklabels(());"
   ]
  },
  {
   "cell_type": "code",
   "execution_count": null,
   "id": "63d00b95-0016-4ee3-9634-07323d891977",
   "metadata": {},
   "outputs": [],
   "source": []
  },
  {
   "cell_type": "code",
   "execution_count": null,
   "id": "22be1e3e-e1ba-4737-b612-17822bbd1a9c",
   "metadata": {},
   "outputs": [],
   "source": [
    "auc_pr = all_results['AUC-PR'].unstack(\"algorithm\").T\n",
    "auc_pr_sub = auc_pr.drop(index=[\"Random2\", \"PCA\", \"KNN\", \"LOF\", \"Donut\", \"FITS\", \"HBOS\", \"SRCNN\"]).rename(index=lambda x: x.replace(\"Sub_\", \"Window \"))"
   ]
  },
  {
   "cell_type": "code",
   "execution_count": null,
   "id": "4a145bee-01f5-4c10-9f22-0b3812f87e73",
   "metadata": {},
   "outputs": [],
   "source": [
    "auc_pr_sub"
   ]
  },
  {
   "cell_type": "code",
   "execution_count": null,
   "id": "d19c4042-a7e2-4245-a27a-aaff912d295b",
   "metadata": {},
   "outputs": [],
   "source": []
  },
  {
   "cell_type": "code",
   "execution_count": null,
   "id": "dc79982a-5780-43e4-b905-cec370af7a90",
   "metadata": {
    "tags": []
   },
   "outputs": [],
   "source": [
    "cm = sns.clustermap(auc_pr_sub, figsize=(15, 20), cbar_pos=(0.98, 0.85, 0.01, 0.1), method=\"ward\", dendrogram_ratio=0.1)\n",
    "cm.ax_heatmap.set_xticklabels(());"
   ]
  },
  {
   "cell_type": "code",
   "execution_count": null,
   "id": "5631f999-6bed-4c24-b265-032d80a2f5c1",
   "metadata": {},
   "outputs": [],
   "source": [
    "for col in ['season_iqr', 'trend_iqr', 'res_iqr']:\n",
    "    periodicity.loc[np.array(~np.isfinite(periodicity[col])), col] = 0"
   ]
  },
  {
   "cell_type": "code",
   "execution_count": null,
   "id": "cd132f05-4934-46ad-a3d0-58d3c76cbd07",
   "metadata": {},
   "outputs": [],
   "source": [
    "periodicity[['season_iqr', 'trend_iqr', 'res_iqr']].max(axis=1).median()"
   ]
  },
  {
   "cell_type": "code",
   "execution_count": null,
   "id": "8b5b95d1-f537-4e51-a9f9-0e6f93bf8770",
   "metadata": {},
   "outputs": [],
   "source": [
    "periodicity['weird'] = (periodicity[['season_iqr', 'trend_iqr', 'res_iqr']].sum(axis=1) > 1.5).astype(float)"
   ]
  },
  {
   "cell_type": "code",
   "execution_count": null,
   "id": "7c275487-a910-4090-8461-2643ca3ee6fe",
   "metadata": {},
   "outputs": [],
   "source": [
    "periodicity"
   ]
  },
  {
   "cell_type": "code",
   "execution_count": null,
   "id": "6e789bf4-d7da-4279-a293-c6046de251a1",
   "metadata": {},
   "outputs": [],
   "source": [
    "#auc_pr_sub_score = auc_pr_sub.T.merge(periodicity[['name', 'r2', 'season_iqr', 'trend_iqr', 'res_iqr', 'weird']].fillna(0), left_on=\"dataset\", right_on=\"name\").set_index(\"name\").T\n",
    "auc_pr_sub_score = auc_pr_sub.T.merge(periodicity[['name',  'weird']].fillna(0), left_on=\"dataset\", right_on=\"name\").set_index(\"name\").T"
   ]
  },
  {
   "cell_type": "code",
   "execution_count": null,
   "id": "da9399fc-a246-4091-9855-870c4a5e056e",
   "metadata": {},
   "outputs": [],
   "source": [
    "cm = sns.clustermap(auc_pr_sub_score, figsize=(15, 20), cbar_pos=(0.98, 0.85, 0.01, 0.1), method=\"ward\", dendrogram_ratio=0.1, vmax=1)\n",
    "cm.ax_heatmap.set_xticklabels(());"
   ]
  },
  {
   "cell_type": "code",
   "execution_count": null,
   "id": "8b88647a-2c65-4f7c-9bbb-f838c9e47e58",
   "metadata": {},
   "outputs": [],
   "source": [
    "threshold = auc_pr_sub.quantile(0.8)"
   ]
  },
  {
   "cell_type": "code",
   "execution_count": null,
   "id": "e6ba542a-f576-48a8-b75e-51245797784d",
   "metadata": {},
   "outputs": [],
   "source": [
    "(auc_pr_sub > threshold).T.mean().sort_values()"
   ]
  },
  {
   "cell_type": "code",
   "execution_count": null,
   "id": "35ade446-b8f6-4cb2-b8cb-c55304c2fcc1",
   "metadata": {},
   "outputs": [],
   "source": [
    "good = (auc_pr_sub > threshold).T[['Window PCA', 'SR']].T.max()\n",
    "good.mean()"
   ]
  },
  {
   "cell_type": "code",
   "execution_count": null,
   "id": "59fff6e8-0e31-4db8-b7bf-2f724a9bd85d",
   "metadata": {},
   "outputs": [],
   "source": [
    "(auc_pr_sub > threshold).loc[:, ~good].T.mean().sort_values()"
   ]
  },
  {
   "cell_type": "code",
   "execution_count": null,
   "id": "35b26a9d-8de6-405a-b1f3-952d1fdfb0b4",
   "metadata": {},
   "outputs": [],
   "source": [
    "good2 = (auc_pr_sub > threshold).T[['Window PCA', 'SR', 'Window KMeansAD']].T.max()\n",
    "good2.mean()"
   ]
  },
  {
   "cell_type": "code",
   "execution_count": null,
   "id": "e8428de9-318a-454c-803b-8491536ec9ae",
   "metadata": {},
   "outputs": [],
   "source": []
  },
  {
   "cell_type": "code",
   "execution_count": null,
   "id": "d33d365c-fee1-4398-8faa-7275e1f554d3",
   "metadata": {},
   "outputs": [],
   "source": [
    "(auc_pr_sub > threshold).loc[:, ~good2].T.mean().sort_values()"
   ]
  },
  {
   "cell_type": "code",
   "execution_count": null,
   "id": "e47eef8c-9f3f-4935-be50-55affe34bc39",
   "metadata": {},
   "outputs": [],
   "source": [
    "(auc_pr_sub > threshold).T[['Window PCA', 'SR', 'Window KMeansAD', 'Window LOF']].T.max().mean()"
   ]
  },
  {
   "cell_type": "code",
   "execution_count": null,
   "id": "5644fc7e-2084-4480-91c8-9ed192c9b9a9",
   "metadata": {},
   "outputs": [],
   "source": [
    "bla = (auc_pr_sub > threshold).T[['Window KMeansAD', 'Window PCA', 'SR']].T.max()"
   ]
  },
  {
   "cell_type": "code",
   "execution_count": null,
   "id": "bdaefbe6-e831-458d-9696-971ed81f5c52",
   "metadata": {},
   "outputs": [],
   "source": [
    "(auc_pr_sub > threshold).loc[:, ~bla].T.mean().sort_values()"
   ]
  },
  {
   "cell_type": "code",
   "execution_count": null,
   "id": "b72a384f-d28a-43fd-b0e9-9d3c0e76d25a",
   "metadata": {},
   "outputs": [],
   "source": [
    "from scipy.cluster.hierarchy import fcluster\n",
    "import numpy as np"
   ]
  },
  {
   "cell_type": "code",
   "execution_count": null,
   "id": "89a49ac4-2fee-411e-9cea-0858aa7fec79",
   "metadata": {},
   "outputs": [],
   "source": [
    "clusters = fcluster(cm.dendrogram_col.calculated_linkage, criterion='maxclust', t=20)"
   ]
  },
  {
   "cell_type": "code",
   "execution_count": null,
   "id": "5c61c537-37d0-4e90-a9d7-b55b3b981460",
   "metadata": {},
   "outputs": [],
   "source": [
    "datasets= [x.split(\"_\")[1] for x in auc_pr.columns]\n",
    "adjusted_rand_score(datasets, clusters)"
   ]
  },
  {
   "cell_type": "code",
   "execution_count": null,
   "id": "71ceb313-e873-4f10-8a16-0f2736b603b4",
   "metadata": {},
   "outputs": [],
   "source": [
    "from TSB_AD.utils.slidingWindows import find_length_rank"
   ]
  },
  {
   "cell_type": "code",
   "execution_count": null,
   "id": "23b08672-2266-429e-a028-1e225fbeea3d",
   "metadata": {},
   "outputs": [],
   "source": [
    "auc_pr = all_results['AUC-PR'].unstack(\"algorithm\").T\n",
    "cm = sns.clustermap(auc_pr_sub_score, figsize=(15, 20), cbar_pos=(0.9, 0.85, 0.01, 0.1), col_colors=plt.cm.tab20(clusters / clusters.max()), method=\"ward\")\n",
    "cm.ax_heatmap.set_xticklabels(());"
   ]
  },
  {
   "cell_type": "code",
   "execution_count": null,
   "id": "4004e95d-6e12-4e94-87b5-d047e2a94ada",
   "metadata": {},
   "outputs": [],
   "source": [
    "pd.Series(clusters).value_counts()"
   ]
  },
  {
   "cell_type": "code",
   "execution_count": null,
   "id": "652788c4-8232-409e-b4a4-17b773f23689",
   "metadata": {},
   "outputs": [],
   "source": [
    "clusters == 6"
   ]
  },
  {
   "cell_type": "code",
   "execution_count": null,
   "id": "e5b2eb09-d78f-45d3-a73c-19873c764875",
   "metadata": {},
   "outputs": [],
   "source": [
    "def get_score(method, dataset):\n",
    "    return np.load(f\"benchmark_exp/score/uni/{method}/{d}.npy\")"
   ]
  },
  {
   "cell_type": "code",
   "execution_count": null,
   "id": "21e676f1-56fc-4777-9327-47975f8ff6df",
   "metadata": {
    "tags": []
   },
   "outputs": [],
   "source": [
    "from TSB_AD.utils.slidingWindows import find_length_rank\n",
    "for d in auc_pr.columns[clusters == 3]:\n",
    "    score_SR = get_score(\"Sub_KNN\", d)\n",
    "    window_length = find_length_rank(res[d]['Data'])\n",
    "    plot_detection(res[d]['Data'], res[d]['Label'], scores=score_SR, window_length=window_length)\n",
    "    plt.title(f\"Sub_KNN: {d} ({window_length})\")\n",
    "    score_SR = get_score(\"Random2\", d)\n",
    "    plot_detection(res[d]['Data'], res[d]['Label'], scores=score_SR, window_length=window_length)\n",
    "    plt.title(f\"Sub_IForest: {d} ({window_length})\")"
   ]
  },
  {
   "cell_type": "code",
   "execution_count": null,
   "id": "0d68bd95-a72d-448d-b502-9c1555794d88",
   "metadata": {},
   "outputs": [],
   "source": [
    "from sklearn.cluster import SpectralCoclustering, SpectralBiclustering\n"
   ]
  },
  {
   "cell_type": "code",
   "execution_count": null,
   "id": "1d4af319-1054-49f1-a69a-dfc794d239c7",
   "metadata": {},
   "outputs": [],
   "source": [
    "from numpy.linalg import svd"
   ]
  },
  {
   "cell_type": "code",
   "execution_count": null,
   "id": "8ad04d24-dd7a-4a8b-9934-4dce6d410231",
   "metadata": {},
   "outputs": [],
   "source": []
  },
  {
   "cell_type": "code",
   "execution_count": null,
   "id": "bb681f8d-227f-4de0-ba7f-dc291612ecb2",
   "metadata": {},
   "outputs": [],
   "source": [
    "sco = SpectralBiclustering(n_clusters=(5, 8))\n",
    "auc_pr_scaled = (auc_pr - auc_pr.min()) / (auc_pr.max() - auc_pr.min())\n",
    "sco.fit(auc_pr_scaled)"
   ]
  },
  {
   "cell_type": "code",
   "execution_count": null,
   "id": "50ea7db3-a3ef-47af-9c3b-276797f8785f",
   "metadata": {},
   "outputs": [],
   "source": [
    "u, s, vt = svd(auc_pr_scaled)"
   ]
  },
  {
   "cell_type": "code",
   "execution_count": null,
   "id": "4683eee5-7b13-4b19-b78c-e42e7a564b2f",
   "metadata": {},
   "outputs": [],
   "source": [
    "u.shape"
   ]
  },
  {
   "cell_type": "code",
   "execution_count": null,
   "id": "5d3555a5-434c-4742-802c-a4e6c167017b",
   "metadata": {},
   "outputs": [],
   "source": [
    "vt.shape"
   ]
  },
  {
   "cell_type": "code",
   "execution_count": null,
   "id": "b3a7e9db-09dd-4456-9826-7bd7945f32a5",
   "metadata": {},
   "outputs": [],
   "source": [
    "from sklearn.decomposition import PCA\n",
    "X_pca = PCA().fit_transform(auc_pr_scaled)"
   ]
  },
  {
   "cell_type": "code",
   "execution_count": null,
   "id": "33f506a9-270e-4ec4-b67f-e9121a007782",
   "metadata": {},
   "outputs": [],
   "source": [
    "for i, a in enumerate(auc_pr.index):\n",
    "    plt.text(X_pca[i,0],  X_pca[i, 1], a)\n",
    "plt.scatter(X_pca[:,0], X_pca[:, 1])"
   ]
  },
  {
   "cell_type": "code",
   "execution_count": null,
   "id": "52ebf76e-76d7-4023-a7a5-94e675e56898",
   "metadata": {},
   "outputs": [],
   "source": []
  },
  {
   "cell_type": "code",
   "execution_count": null,
   "id": "5c9c29b6-a379-4675-b5ee-38a95e4b7841",
   "metadata": {},
   "outputs": [],
   "source": [
    "X_pca = PCA().fit_transform(auc_pr_scaled.T)\n",
    "datasets= [x.split(\"_\")[1] for x in auc_pr.columns]\n",
    "plt.scatter(X_pca[:,0], X_pca[:, 1], c=pd.Series(datasets, dtype=\"category\").cat.codes, cmap=plt.cm.tab20)"
   ]
  },
  {
   "cell_type": "code",
   "execution_count": null,
   "id": "f6a73b66-5ec0-4342-b3be-35658aabf4e2",
   "metadata": {},
   "outputs": [],
   "source": [
    "from umap import UMAP"
   ]
  },
  {
   "cell_type": "code",
   "execution_count": null,
   "id": "77a74a33-099b-4dc0-99dd-cb72db3ef487",
   "metadata": {
    "tags": []
   },
   "outputs": [],
   "source": [
    "datasets_umap = UMAP(spread=2).fit_transform(auc_pr_scaled.T)"
   ]
  },
  {
   "cell_type": "code",
   "execution_count": null,
   "id": "3b70067b-4842-4cf3-bacf-d5b1e2f7c18a",
   "metadata": {},
   "outputs": [],
   "source": [
    "plt.scatter(datasets_umap[:,0], datasets_umap[:, 1], c=pd.Series(datasets, dtype=\"category\").cat.codes, cmap=plt.cm.tab20)"
   ]
  },
  {
   "cell_type": "code",
   "execution_count": null,
   "id": "ca561c64-8da4-4906-ab62-829243c7ca59",
   "metadata": {},
   "outputs": [],
   "source": [
    "from sklearn.manifold import TSNE"
   ]
  },
  {
   "cell_type": "code",
   "execution_count": null,
   "id": "b7ca1f23-a8f3-4d1a-b0de-8bd342b534f5",
   "metadata": {},
   "outputs": [],
   "source": [
    "datasets_tsne = TSNE(perplexity=100).fit_transform(auc_pr_scaled.T)"
   ]
  },
  {
   "cell_type": "code",
   "execution_count": null,
   "id": "2b8cc3cc-74ad-464f-b176-9fa58ad19b3b",
   "metadata": {},
   "outputs": [],
   "source": [
    "tsne_df = pd.concat([pd.DataFrame(datasets_tsne), pd.Series(datasets, name=\"dataset\")], axis=1)"
   ]
  },
  {
   "cell_type": "code",
   "execution_count": null,
   "id": "1d6d355e-e605-4cdb-ba4d-fe6ad25e4061",
   "metadata": {},
   "outputs": [],
   "source": [
    "tsne_df"
   ]
  },
  {
   "cell_type": "code",
   "execution_count": null,
   "id": "83e0235b-aa74-4c6b-b88e-b60d3b2de188",
   "metadata": {},
   "outputs": [],
   "source": [
    "fig = sns.scatterplot(data=tsne_df, x=0, y=1, hue=\"dataset\", ax=plt.gca(), palette=plt.cm.tab20(range(18)))\n",
    "sns.move_legend(fig, (1, -.5))"
   ]
  },
  {
   "cell_type": "code",
   "execution_count": null,
   "id": "11abaebe-880f-4107-814a-66be064a5341",
   "metadata": {},
   "outputs": [],
   "source": [
    "sco.row_labels_[row_inds]"
   ]
  },
  {
   "cell_type": "code",
   "execution_count": null,
   "id": "9c217359-43aa-4efc-97be-f334f39ed873",
   "metadata": {},
   "outputs": [],
   "source": [
    "row_inds = np.argsort(sco.row_labels_)"
   ]
  },
  {
   "cell_type": "code",
   "execution_count": null,
   "id": "4b12153f-50c8-484b-8e37-d7958ad6cd22",
   "metadata": {},
   "outputs": [],
   "source": [
    "col_inds = np.argsort(sco.column_labels_)"
   ]
  },
  {
   "cell_type": "code",
   "execution_count": null,
   "id": "3366a84c-ab28-42d2-b718-8040ef9c17a4",
   "metadata": {},
   "outputs": [],
   "source": [
    "plt.figure(figsize=(10, 10), dpi=300)\n",
    "plt.imshow(np.array(auc_pr_scaled)[row_inds][:, col_inds], aspect=\"auto\")\n",
    "plt.yticks(range(len(auc_pr_scaled)), auc_pr.index[row_inds]);"
   ]
  },
  {
   "cell_type": "code",
   "execution_count": null,
   "id": "875deb73-3abc-450e-ac46-584779e2e3f2",
   "metadata": {},
   "outputs": [],
   "source": [
    "np.array(auc_pr_scaled).shape"
   ]
  },
  {
   "cell_type": "code",
   "execution_count": null,
   "id": "dcc9b856-9d43-4c26-9969-eadb5577bc88",
   "metadata": {},
   "outputs": [],
   "source": []
  },
  {
   "cell_type": "code",
   "execution_count": null,
   "id": "f6a85ca5-4bf6-4e64-a061-78fb8c910779",
   "metadata": {},
   "outputs": [],
   "source": [
    "u,s,vt = svd(auc_pr_scaled)\n",
    "row_inds = np.argsort(u[:, 2])\n",
    "col_inds = np.argsort(vt[:, 0])\n",
    "plt.figure(figsize=(10, 10), dpi=300)\n",
    "plt.imshow(np.array(auc_pr_scaled)[row_inds][:, col_inds], aspect=\"auto\")\n",
    "plt.yticks(range(len(auc_pr_scaled)), auc_pr.index[row_inds]);"
   ]
  },
  {
   "cell_type": "code",
   "execution_count": null,
   "id": "aa5b7598-15b8-4618-9902-ab62c458adf4",
   "metadata": {},
   "outputs": [],
   "source": [
    "cm = sns.clustermap(auc_pr, figsize=(15, 20), standard_scale=1, cbar_pos=(0.9, 0.8, 0.01, 0.1), row_clusters=sco.row_labels_, col_cluster=sco.column_labels_)\n",
    "cm.ax_heatmap.set_xticklabels(());"
   ]
  },
  {
   "cell_type": "code",
   "execution_count": null,
   "id": "b0d3fda6-f43e-4df1-9251-9825c7e63306",
   "metadata": {},
   "outputs": [],
   "source": [
    "from sklearn.metrics.cluster import contingency_matrix, adjusted_rand_score"
   ]
  },
  {
   "cell_type": "code",
   "execution_count": null,
   "id": "6cd29717-9ce4-483d-97e0-6178fcdac21d",
   "metadata": {},
   "outputs": [],
   "source": [
    "datasets= [x.split(\"_\")[1] for x in auc_pr.columns]\n",
    "adjusted_rand_score(datasets, clusters)"
   ]
  },
  {
   "cell_type": "code",
   "execution_count": null,
   "id": "2f0ba898-af75-4a85-a71b-9fc4dae51dfe",
   "metadata": {},
   "outputs": [],
   "source": [
    "datasets= [x.split(\"_\")[1] for x in auc_pr.columns]\n",
    "plt.imshow(contingency_matrix(datasets, clusters))\n",
    "plt.yticks(range(len(np.unique(datasets))), np.unique(datasets));"
   ]
  },
  {
   "cell_type": "code",
   "execution_count": null,
   "id": "4ddd6cd5-db56-4c44-a8da-87284b0ee791",
   "metadata": {},
   "outputs": [],
   "source": [
    "np.bincount(clusters)"
   ]
  },
  {
   "cell_type": "code",
   "execution_count": null,
   "id": "33b9d134-646c-4858-9d87-d71a9db6587a",
   "metadata": {},
   "outputs": [],
   "source": []
  },
  {
   "cell_type": "code",
   "execution_count": null,
   "id": "972fc490-bcea-4b4e-b0e3-d5073139f310",
   "metadata": {
    "tags": []
   },
   "outputs": [],
   "source": [
    "for d in auc_pr.columns[clusters == 1]:\n",
    "    plot_detection(res[d]['Data'], res[d]['Label'])\n",
    "    plt.title(d)"
   ]
  },
  {
   "cell_type": "code",
   "execution_count": null,
   "id": "27049075-92e6-46f5-81e4-b2025e38b933",
   "metadata": {},
   "outputs": [],
   "source": [
    "!ls"
   ]
  },
  {
   "cell_type": "code",
   "execution_count": null,
   "id": "df7cc23f-bcf0-4bad-ac99-b32e097f3f4b",
   "metadata": {
    "tags": []
   },
   "outputs": [],
   "source": [
    "for d in auc_pr.columns[clusters == 2]:\n",
    "    scores = np.load(f\"benchmark_exp/score/uni/MatrixProfile/{d}.npy\")\n",
    "    plot_detection(res[d]['Data'], res[d]['Label'], scores)\n",
    "    plt.title(d)"
   ]
  },
  {
   "cell_type": "code",
   "execution_count": null,
   "id": "ef09ef26-6fe5-469a-99a5-27e059c344fb",
   "metadata": {
    "tags": []
   },
   "outputs": [],
   "source": [
    "for d in auc_pr.columns[clusters == 3]:\n",
    "    plot_detection(res[d]['Data'], res[d]['Label'])\n",
    "    plt.title(d)"
   ]
  },
  {
   "cell_type": "code",
   "execution_count": null,
   "id": "98cdfaf8-8419-4a02-b152-aea70714a644",
   "metadata": {
    "tags": []
   },
   "outputs": [],
   "source": [
    "for d in auc_pr.columns[clusters == 4]:\n",
    "    plot_detection(res[d]['Data'], res[d]['Label'])\n",
    "    plt.title(d)"
   ]
  },
  {
   "cell_type": "code",
   "execution_count": null,
   "id": "8a93f5bc-5a9e-46b5-b28f-04f0a7572064",
   "metadata": {
    "tags": []
   },
   "outputs": [],
   "source": [
    "for d in auc_pr.columns[clusters == 5]:\n",
    "    plot_detection(res[d]['Data'], res[d]['Label'])\n",
    "    plt.title(d)"
   ]
  },
  {
   "cell_type": "code",
   "execution_count": null,
   "id": "b6c41300-7b79-4d0c-aecb-eb365e296003",
   "metadata": {},
   "outputs": [],
   "source": [
    "def plot_subset(datasets):\n",
    "    pd.Series([x.split(\"_\")[1] for x in datasets]).value_counts().plot(kind=\"bar\")"
   ]
  },
  {
   "cell_type": "code",
   "execution_count": null,
   "id": "26511ecb-0339-4534-b32a-bf9281720203",
   "metadata": {},
   "outputs": [],
   "source": [
    "plot_subset(auc_pr.columns[clusters == 1])"
   ]
  },
  {
   "cell_type": "code",
   "execution_count": null,
   "id": "e844d504-9489-4ca8-8bad-d91518fa1d76",
   "metadata": {},
   "outputs": [],
   "source": [
    "plot_subset(auc_pr.columns[clusters == 2])"
   ]
  },
  {
   "cell_type": "code",
   "execution_count": null,
   "id": "2bbedef4-9acb-40e1-ad65-a54b2c6ba566",
   "metadata": {},
   "outputs": [],
   "source": [
    "plot_subset(auc_pr.columns[clusters == 3])"
   ]
  },
  {
   "cell_type": "code",
   "execution_count": null,
   "id": "96717a60-dde4-49c2-a2ed-896bde1a1812",
   "metadata": {},
   "outputs": [],
   "source": [
    "plot_subset(auc_pr.columns[clusters == 4])"
   ]
  },
  {
   "cell_type": "code",
   "execution_count": null,
   "id": "62cf92a5-132d-4393-80eb-5f2fe0dd2510",
   "metadata": {},
   "outputs": [],
   "source": [
    "plot_subset(auc_pr.columns[clusters == 5])"
   ]
  },
  {
   "cell_type": "code",
   "execution_count": null,
   "id": "424f0684-3444-4884-9b9d-5d691a4a54f8",
   "metadata": {},
   "outputs": [],
   "source": [
    "bla = all_results['AUC-PR'].unstack(\"algorithm\").rank(axis=1, ascending=False).mean().sort_values().reset_index()"
   ]
  },
  {
   "cell_type": "code",
   "execution_count": null,
   "id": "d9b2eb0e-efd0-41c4-9b95-b8cab27b9d9b",
   "metadata": {},
   "outputs": [],
   "source": [
    "bla"
   ]
  },
  {
   "cell_type": "code",
   "execution_count": null,
   "id": "a5f2337d-cdc7-42d0-af73-393e1874ba58",
   "metadata": {
    "tags": []
   },
   "outputs": [],
   "source": [
    "sns.clustermap(all_results['AUC-PR'].unstack(\"algorithm\").rank(axis=1, ascending=False).T, figsize=(15, 20))"
   ]
  },
  {
   "cell_type": "code",
   "execution_count": null,
   "id": "a374f018-964f-4301-84a0-18ebf6501eb3",
   "metadata": {},
   "outputs": [],
   "source": [
    "vus_scores = all_results['VUS-PR'].unstack(\"algorithm\")"
   ]
  },
  {
   "cell_type": "code",
   "execution_count": null,
   "id": "f32c6f4c-d14e-47c0-aa79-e4ee513651dc",
   "metadata": {},
   "outputs": [],
   "source": [
    "vus_scores.T.apply(pd.Series.idxmax)"
   ]
  },
  {
   "cell_type": "code",
   "execution_count": null,
   "id": "22e9c4b6-2cda-40d2-b03f-cce9d47dcf9e",
   "metadata": {},
   "outputs": [],
   "source": [
    "keep_datasets = vus_scores.T.apply(pd.Series.idxmax).isin([\"Sub_PCA\", \"POLY\"])"
   ]
  },
  {
   "cell_type": "code",
   "execution_count": null,
   "id": "e2ecda51-5139-474e-9acd-fc57a1510c01",
   "metadata": {},
   "outputs": [],
   "source": [
    "_ = cd_evaluation(vus_scores[keep_datasets].drop(columns=[\"Sub_PCA\", \"POLY\"]), maximize_metric=True)"
   ]
  },
  {
   "cell_type": "code",
   "execution_count": null,
   "id": "8630a674-c4a8-43ec-b380-5b23fac098ca",
   "metadata": {},
   "outputs": [],
   "source": [
    "all_results['VUS-PR'].unstack(\"algorithm\")"
   ]
  },
  {
   "cell_type": "code",
   "execution_count": null,
   "id": "8f784fd9-1d41-4566-8824-e4c7e63b2cea",
   "metadata": {},
   "outputs": [],
   "source": [
    "sns.clustermap(all_results['VUS-PR'].unstack(\"algorithm\")[['POLY', \"Sub_PCA\", \"Sub_IForest\"]].T.rank(), figsize=(20, 20))"
   ]
  },
  {
   "cell_type": "code",
   "execution_count": null,
   "id": "64d3cc16-31b7-4272-a8b5-70e9cb9aa553",
   "metadata": {},
   "outputs": [],
   "source": [
    "sns.clustermap(all_results['VUS-PR'].unstack(\"algorithm\")[['POLY', \"Sub_PCA\", \"Sub_IForest\"]].T, figsize=(20, 20))"
   ]
  },
  {
   "cell_type": "code",
   "execution_count": null,
   "id": "0992a962-ac69-46d6-838d-28477f5026e3",
   "metadata": {},
   "outputs": [],
   "source": []
  }
 ],
 "metadata": {
  "kernelspec": {
   "display_name": "Python [conda env:TSB-AD]",
   "language": "python",
   "name": "conda-env-TSB-AD-py"
  },
  "language_info": {
   "codemirror_mode": {
    "name": "ipython",
    "version": 3
   },
   "file_extension": ".py",
   "mimetype": "text/x-python",
   "name": "python",
   "nbconvert_exporter": "python",
   "pygments_lexer": "ipython3",
   "version": "3.12.4"
  }
 },
 "nbformat": 4,
 "nbformat_minor": 5
}
