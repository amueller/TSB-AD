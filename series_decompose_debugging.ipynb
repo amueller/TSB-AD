{
 "cells": [
  {
   "cell_type": "code",
   "execution_count": null,
   "id": "4b1e6b93-8c4b-4630-b43e-66a4cee32bfd",
   "metadata": {},
   "outputs": [],
   "source": [
    "from statsmodels.tsa.seasonal import STL\n",
    "import pandas as pd\n",
    "import numpy as np\n",
    "from statsmodels.tsa.stattools import acf\n",
    "from scipy.signal import find_peaks, peak_prominences\n",
    "import numpy as np\n",
    "\n",
    "from TSB_AD.utils.slidingWindows import find_length_rank\n"
   ]
  },
  {
   "cell_type": "code",
   "execution_count": null,
   "id": "ff683898-00b9-4321-b150-0914aa9b8e3f",
   "metadata": {},
   "outputs": [],
   "source": [
    "def load_series(files):\n",
    "    results = {}\n",
    "    for f in files:\n",
    "        df = pd.read_csv(\"benchmark_exp/TSB-AD/TSB-AD-U/\" + f + \".csv\")\n",
    "        results[f.split(\".\")[0]] = df\n",
    "    return results\n",
    "\n",
    "gah = ['025_UCR_Anomaly_CIMIS44AirTemperature1_2046_5391',\n",
    "       '029_UCR_Anomaly_ECG2_7500_16000',\n",
    "       '033_UCR_Anomaly_Italianpowerdemand_7482_29480',\n",
    "       '036_UCR_Anomaly_insectEPG3_2499_7000',\n",
    "       '051_UCR_Anomaly_DISTORTEDresperation4_48812_128430',\n",
    "       '080_UCR_Anomaly_gait1_16250_38500',\n",
    "       '085_UCR_Anomaly_Italianpowerdemand_29895_39240',\n",
    "       '107_UCR_Anomaly_gait3_16250_59900',\n",
    "       '154_UCR_Anomaly_resperation11_48750_110800',\n",
    "       '208_UCR_Anomaly_DISTORTEDresperation1_50000_110260',\n",
    "       '216_UCR_Anomaly_resperation10_48750_130700',\n",
    "       '228_UCR_Anomaly_taichidbS0715Master_50000_884100',\n",
    "       '504_IOPS_KPI-8723f0fb-eaef-32e6-b372-6034c9c04b80_5578_5678',\n",
    "       '506_IOPS_KPI-6d1114ae-be04-3c46-b5aa-be1a003a57cd_8620_8720',\n",
    "       '507_IOPS_KPI-301c70d8-1630-35ac-8f96-bc1b6f4359ea_1483_1583',\n",
    "       '508_IOPS_KPI-e0747cad-8dc8-38a9-a9ab-855b61f5551d_500_341',\n",
    "       '509_IOPS_KPI-0efb375b-b902-3661-ab23-9a0bb799f4e3_500_264',\n",
    "       '515_IOPS_KPI-ab216663-dcc2-3a24-b1ee-2c3e550e06c9_500_77',\n",
    "       '517_IOPS_KPI-8723f0fb-eaef-32e6-b372-6034c9c04b80_5638_5738',\n",
    "       '530_WSD_150_4521_4599', '532_WSD_171_643_743', '533_WSD_168_4521_6454',\n",
    "       '534_WSD_187_4559_12588', '538_WSD_153_500_276',\n",
    "       '540_WSD_104_2411_2511', '544_WSD_191_4559_9714', '545_WSD_37_500_78',\n",
    "       '548_WSD_57_4521_6828', '549_WSD_154_1129_1229', '554_WSD_184_500_53']\n",
    "\n",
    "res = load_series(['006_NAB_data_CloudWatch_11_1007_1437', '242_Yahoo_A2synthetic_66_data_500_893', '784_OPPORTUNITY_S4-ADL5_1100_1200_col_id_17_1100_1200',  '025_UCR_Anomaly_CIMIS44AirTemperature1_2046_5391'])\n",
    "#res = load_series(gah)"
   ]
  },
  {
   "cell_type": "code",
   "execution_count": null,
   "id": "4f14cc01-85a0-4f28-8299-08d000623d0c",
   "metadata": {},
   "outputs": [],
   "source": [
    "s = res['006_NAB_data_CloudWatch_11_1007_1437']"
   ]
  },
  {
   "cell_type": "code",
   "execution_count": null,
   "id": "55b21aa5-aa8c-4462-9060-4a93cd2ecbf7",
   "metadata": {},
   "outputs": [],
   "source": [
    "def find_length(data):\n",
    "    a, b = np.quantile(data, [0.001, 0.999])\n",
    "    data = np.clip(data, a, b)\n",
    "    \n",
    "    #data = data[:min(20000, len(data))]\n",
    "    n_lags = 5000\n",
    "    base = 3\n",
    "    auto_corr = acf(data, nlags=n_lags, fft=True)[base:]\n",
    "    try:\n",
    "        peaks, _ = find_peaks(auto_corr)\n",
    "        prominences = peak_prominences(auto_corr, peaks)[0]\n",
    "        peaks = peaks + base\n",
    "        prominent_peak_idx = np.argmax(prominences)\n",
    "    except:\n",
    "        return []\n",
    "    if prominences[prominent_peak_idx] < 0.1:\n",
    "        result = []\n",
    "    else:\n",
    "        highest_peak = np.argmax(auto_corr[peaks - base])\n",
    "        ac_of_prominent = auto_corr[peaks[prominent_peak_idx] - base]\n",
    "        # 99% significance level of autocorrelation\n",
    "        if ac_of_prominent < 2.576 / np.sqrt(len(data)):\n",
    "            return []\n",
    "        result = [peaks[prominent_peak_idx]]\n",
    "        if highest_peak != prominent_peak_idx and prominences[highest_peak] > 0.1:\n",
    "            result.append(peaks[highest_peak])\n",
    "    return result"
   ]
  },
  {
   "cell_type": "code",
   "execution_count": null,
   "id": "348cc676-6103-45bd-9bc4-5ccd7aa5ad72",
   "metadata": {},
   "outputs": [],
   "source": [
    "window_length = find_length(s['Data'])[0]\n",
    "window_length"
   ]
  },
  {
   "cell_type": "code",
   "execution_count": null,
   "id": "d6ac5afe-84b2-4aed-b07e-f331167417d9",
   "metadata": {},
   "outputs": [],
   "source": [
    "find_length_rank(s['Data'])"
   ]
  },
  {
   "cell_type": "code",
   "execution_count": null,
   "id": "3eac3b08-cc1d-45a3-9388-1f2b3ca569e7",
   "metadata": {},
   "outputs": [],
   "source": [
    "fit = STL(s['Data'], period=window_length).fit()"
   ]
  },
  {
   "cell_type": "code",
   "execution_count": null,
   "id": "9f1f2bb7-3ee0-4bfe-a8ab-80c1eba9466c",
   "metadata": {},
   "outputs": [],
   "source": [
    "plt.plot(fit.seasonal + fit.trend)\n",
    "s['Data'].plot(alpha=0.5, figsize=(30, 5))"
   ]
  },
  {
   "cell_type": "code",
   "execution_count": null,
   "id": "a1b59d1d-8755-440b-b2c6-32f58150b378",
   "metadata": {},
   "outputs": [],
   "source": [
    "1 - (fit.resid ** 2).mean() / s['Data'].var()"
   ]
  },
  {
   "cell_type": "code",
   "execution_count": null,
   "id": "445d94ba-78b5-478c-9944-37716665edb9",
   "metadata": {},
   "outputs": [],
   "source": [
    "#pd.plotting.autocorrelation_plot(s['Data'])\n",
    "#plt.hlines([2/np.sqrt(len(s))], xmin=0, xmax=1400, colors='r')"
   ]
  },
  {
   "cell_type": "code",
   "execution_count": null,
   "id": "e9285a16-ca33-491b-b0c9-58fc2c2f5f2b",
   "metadata": {},
   "outputs": [],
   "source": [
    "from sklearn.metrics import r2_score\n",
    "r2_score(s['Data'], fit.seasonal + fit.trend)"
   ]
  },
  {
   "cell_type": "code",
   "execution_count": null,
   "id": "d933ef15-80bf-4c0c-ad49-e9089f9f630a",
   "metadata": {},
   "outputs": [],
   "source": [
    "1 - (fit.resid ** 2).mean() / s['Data'].var()"
   ]
  },
  {
   "cell_type": "code",
   "execution_count": null,
   "id": "99b8289d-a659-4341-835c-25fec9ac7b90",
   "metadata": {},
   "outputs": [],
   "source": [
    "def iqr(s):\n",
    "    return s.quantile([0.75]).iloc[0] - s.quantile([0.25]).iloc[0]\n",
    "    "
   ]
  },
  {
   "cell_type": "code",
   "execution_count": null,
   "id": "56516dac-7e00-4a30-b1f9-2034d1f3a193",
   "metadata": {},
   "outputs": [],
   "source": [
    "iqr(fit.observed)"
   ]
  },
  {
   "cell_type": "code",
   "execution_count": null,
   "id": "b9022e39-618a-4a13-a23b-feea6f7099bd",
   "metadata": {},
   "outputs": [],
   "source": [
    "iqr(fit.trend)"
   ]
  },
  {
   "cell_type": "code",
   "execution_count": null,
   "id": "c4f5839b-9ca4-4902-85f3-b84801d74a1a",
   "metadata": {},
   "outputs": [],
   "source": [
    "iqr(fit.seasonal)"
   ]
  },
  {
   "cell_type": "code",
   "execution_count": null,
   "id": "72cdf81f-7e51-448f-a158-49d1e255a098",
   "metadata": {},
   "outputs": [],
   "source": [
    "iqr(fit.resid)"
   ]
  },
  {
   "cell_type": "code",
   "execution_count": null,
   "id": "da074711-7ddc-4930-a78c-8c430a280b97",
   "metadata": {},
   "outputs": [],
   "source": [
    "fit.plot();"
   ]
  },
  {
   "cell_type": "code",
   "execution_count": null,
   "id": "9fc36640-1928-4df4-8f5b-2ff92457e500",
   "metadata": {},
   "outputs": [],
   "source": [
    "from TSB_AD.utils.slidingWindows import find_length_rank\n",
    "from utils import plot_detection\n",
    "from sklearn.metrics import average_precision_score\n",
    "import matplotlib.pyplot as plt"
   ]
  },
  {
   "cell_type": "code",
   "execution_count": null,
   "id": "a7fca4b4-74b5-41d5-a859-5832319023ee",
   "metadata": {},
   "outputs": [],
   "source": [
    "score = np.abs(fit.resid)"
   ]
  },
  {
   "cell_type": "code",
   "execution_count": null,
   "id": "2c9adb90-21c6-424b-a1d8-f3d855f5ca06",
   "metadata": {},
   "outputs": [],
   "source": [
    "plot_detection(s.Data, s.Label, scores=score, window_length=window_length)\n",
    "plt.title(f\"{average_precision_score(s.Label, score):.2f}  ({window_length})\")"
   ]
  },
  {
   "cell_type": "code",
   "execution_count": null,
   "id": "1f9e8138-0c2c-4f9d-b8d9-aae2763d2784",
   "metadata": {},
   "outputs": [],
   "source": [
    "s = res['784_OPPORTUNITY_S4-ADL5_1100_1200_col_id_17_1100_1200']"
   ]
  },
  {
   "cell_type": "code",
   "execution_count": null,
   "id": "43d1bee7-b853-4d24-9322-d2f3dab8058e",
   "metadata": {},
   "outputs": [],
   "source": [
    "window_length = find_length(s['Data'])"
   ]
  },
  {
   "cell_type": "code",
   "execution_count": null,
   "id": "4f35d57f-1899-4900-a089-885f04c8d835",
   "metadata": {},
   "outputs": [],
   "source": [
    "window_length"
   ]
  },
  {
   "cell_type": "code",
   "execution_count": null,
   "id": "145a52ae-7be3-4530-8193-28e62b5291c8",
   "metadata": {},
   "outputs": [],
   "source": [
    "bla = acf(s['Data'], nlags=5000, fft=True)"
   ]
  },
  {
   "cell_type": "code",
   "execution_count": null,
   "id": "c80cb49f-262f-4693-ad86-bdd6379709a7",
   "metadata": {},
   "outputs": [],
   "source": [
    "plt.plot(bla)"
   ]
  },
  {
   "cell_type": "code",
   "execution_count": null,
   "id": "2e19f8fa-dd1d-499e-b8a5-e75a129c2fe2",
   "metadata": {},
   "outputs": [],
   "source": []
  },
  {
   "cell_type": "code",
   "execution_count": null,
   "id": "b20efba7-6fb4-468a-a40e-d6d78bc432ef",
   "metadata": {},
   "outputs": [],
   "source": [
    "res = STL(s['Data'], period=18).fit()\n",
    "res.plot();"
   ]
  },
  {
   "cell_type": "code",
   "execution_count": null,
   "id": "0476089e-d87e-4b65-add9-53f65969f2a9",
   "metadata": {},
   "outputs": [],
   "source": [
    "r2_score(s['Data'], res.seasonal + res.trend)"
   ]
  },
  {
   "cell_type": "code",
   "execution_count": null,
   "id": "f2ee55bb-0664-4a90-b077-a11f402eee59",
   "metadata": {},
   "outputs": [],
   "source": [
    "score = np.abs(res.resid)\n",
    "plot_detection(s.Data, s.Label, scores=score, window_length=window_length)\n",
    "plt.title(f\"{average_precision_score(s.Label, score):.2f}  ({window_length})\")"
   ]
  },
  {
   "cell_type": "code",
   "execution_count": null,
   "id": "3d9d01e7-72aa-4b8c-a5fd-61c740a452d0",
   "metadata": {},
   "outputs": [],
   "source": [
    "res = STL(s['Data'], period=1286).fit()\n",
    "res.plot();"
   ]
  },
  {
   "cell_type": "code",
   "execution_count": null,
   "id": "bea81f19-0125-41e8-8d30-493da829e8c1",
   "metadata": {},
   "outputs": [],
   "source": [
    "r2_score(s['Data'], res.seasonal + res.trend)"
   ]
  },
  {
   "cell_type": "code",
   "execution_count": null,
   "id": "0dfe1fc0-b986-430d-a743-6f98897438c9",
   "metadata": {},
   "outputs": [],
   "source": [
    "1 - (res.resid ** 2).mean() / s['Data'].var()"
   ]
  },
  {
   "cell_type": "code",
   "execution_count": null,
   "id": "83f3bf53-578c-4966-a1f8-2741c4128135",
   "metadata": {},
   "outputs": [],
   "source": [
    "score = np.abs(res.resid)\n",
    "plot_detection(s.Data, s.Label, scores=score, window_length=window_length)\n",
    "plt.title(f\"{average_precision_score(s.Label, score):.2f}  ({window_length})\")"
   ]
  },
  {
   "cell_type": "code",
   "execution_count": null,
   "id": "104c1b78-0c82-4915-97a8-4cadde21578f",
   "metadata": {},
   "outputs": [],
   "source": [
    "res = STL(s['Data'], period=1286, trend_deg=0).fit()\n",
    "res.plot();"
   ]
  },
  {
   "cell_type": "code",
   "execution_count": null,
   "id": "66ddfd9e-2c08-4961-b1e1-b650d46b7365",
   "metadata": {},
   "outputs": [],
   "source": [
    "from statsmodels.tsa.holtwinters import ExponentialSmoothing"
   ]
  },
  {
   "cell_type": "code",
   "execution_count": null,
   "id": "683759c3-7ce9-40c2-aa5d-77e523760ae3",
   "metadata": {},
   "outputs": [],
   "source": [
    "es = ExponentialSmoothing(s['Data'], seasonal_periods=18, seasonal='add', trend='add').fit()"
   ]
  },
  {
   "cell_type": "code",
   "execution_count": null,
   "id": "15f035e7-0cb4-4693-ae8d-213b61839e1e",
   "metadata": {},
   "outputs": [],
   "source": [
    "plt.figure(figsize=(20, 10))\n",
    "\n",
    "s['Data'].plot()\n",
    "es.fittedvalues.plot(alpha=0.4)"
   ]
  },
  {
   "cell_type": "code",
   "execution_count": null,
   "id": "d9d60956-2403-4aeb-99dc-d25d38a26ec7",
   "metadata": {},
   "outputs": [],
   "source": [
    "from statsmodels.tsa.statespace.exponential_smoothing import ExponentialSmoothing"
   ]
  },
  {
   "cell_type": "code",
   "execution_count": null,
   "id": "76a7fa2d-0044-44cb-8f56-60bd227f378d",
   "metadata": {},
   "outputs": [],
   "source": [
    "es = ExponentialSmoothing(s['Data'], seasonal=18).fit()\n",
    "plt.figure(figsize=(20, 10))\n",
    "\n",
    "s['Data'].plot()\n",
    "es.fittedvalues.plot(alpha=0.4)"
   ]
  },
  {
   "cell_type": "code",
   "execution_count": null,
   "id": "7e08f55b-d71b-465e-8f62-135c9ffef1a4",
   "metadata": {},
   "outputs": [],
   "source": [
    "es = ExponentialSmoothing(s['Data'], seasonal=1286).fit()\n",
    "plt.figure(figsize=(20, 10))\n",
    "\n",
    "s['Data'].plot()\n",
    "es.fittedvalues.plot(alpha=0.4)"
   ]
  },
  {
   "cell_type": "code",
   "execution_count": null,
   "id": "77b8e55d-83d3-41e7-b932-0f96afb9e3ad",
   "metadata": {},
   "outputs": [],
   "source": []
  }
 ],
 "metadata": {
  "kernelspec": {
   "display_name": "Python [conda env:TSB-AD]",
   "language": "python",
   "name": "conda-env-TSB-AD-py"
  },
  "language_info": {
   "codemirror_mode": {
    "name": "ipython",
    "version": 3
   },
   "file_extension": ".py",
   "mimetype": "text/x-python",
   "name": "python",
   "nbconvert_exporter": "python",
   "pygments_lexer": "ipython3",
   "version": "3.12.4"
  }
 },
 "nbformat": 4,
 "nbformat_minor": 5
}
