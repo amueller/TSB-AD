{
 "cells": [
  {
   "cell_type": "code",
   "execution_count": null,
   "id": "d9a8ff7d-07f6-4ce4-9721-8d3f40a2cf83",
   "metadata": {},
   "outputs": [],
   "source": [
    "import numpy as np\n",
    "import pandas as pd\n",
    "import matplotlib.pyplot as plt\n",
    "import seaborn as sns\n",
    "from utils import find_length, find_length_diff\n",
    "from TSB_AD.utils.slidingWindows import find_length_rank\n",
    "from scipy import stats\n",
    "import pandas as pd\n",
    "from statsmodels.tsa.seasonal import STL\n",
    "import pandas as pd\n",
    "import numpy as np\n",
    "from statsmodels.tsa.stattools import acf\n",
    "from scipy.signal import find_peaks, peak_prominences, peak_widths\n",
    "import numpy as np\n",
    "import matplotlib.pyplot as plt\n",
    "from tqdm import tqdm\n",
    "np.set_printoptions(legacy='1.13')"
   ]
  },
  {
   "cell_type": "code",
   "execution_count": null,
   "id": "446b2fbd-76f4-437f-9a60-2bbe95cd7241",
   "metadata": {},
   "outputs": [],
   "source": [
    "def random_walk(length=10000):\n",
    "    return np.cumsum(np.random.uniform(-1, 1, size=length))\n",
    "\n",
    "def noise(length=10000):\n",
    "    return np.random.normal(size=length)\n",
    "\n",
    "def periodic(length=10000, period=100):\n",
    "    pattern = random_walk(period)\n",
    "    ind = np.arange(length)\n",
    "    return pattern[ind % period]\n",
    "    "
   ]
  },
  {
   "cell_type": "code",
   "execution_count": null,
   "id": "fb3b8931-a957-4949-a3fa-aefb0fae400b",
   "metadata": {},
   "outputs": [],
   "source": [
    "syn_datasets = []\n",
    "np.random.seed(2)\n",
    "for i in range(1000):\n",
    "    length = np.random.randint(100, 100000)\n",
    "    # hardcoded 5000 as max period length in code\n",
    "    period = np.random.randint(5, min(2000, length // 10))\n",
    "    period_strength = np.random.uniform(0, 10)\n",
    "    noise_strength = np.random.uniform(0, 10)\n",
    "    sig = period_strength * periodic(period=period, length=length) + random_walk(length=length) + noise_strength * noise(length=length)\n",
    "    mine, confirmed = find_length(sig, max_filter=True)\n",
    "    mine_diff = find_length_diff(sig)\n",
    "    theirs = find_length_rank(sig)\n",
    "    syn_datasets.append([sig, length, period, noise_strength, period_strength, mine, mine_diff, confirmed, theirs])\n"
   ]
  },
  {
   "cell_type": "code",
   "execution_count": null,
   "id": "bac1b2e8-619f-4db9-b542-395c9f4296a7",
   "metadata": {},
   "outputs": [],
   "source": [
    "res = pd.DataFrame([x[1:] for x in syn_datasets], columns=[\"length\", \"period\", \"noise_strength\", \"period_strength\", \"mine\", \"mine_diff\", \"confirmed\", \"theirs\"])"
   ]
  },
  {
   "cell_type": "code",
   "execution_count": null,
   "id": "ce9648b3-8b76-4904-b8a5-ab4aee0103d8",
   "metadata": {},
   "outputs": [],
   "source": [
    "res"
   ]
  },
  {
   "cell_type": "code",
   "execution_count": null,
   "id": "33ef0c62-9ff8-401a-8927-b32004752a86",
   "metadata": {},
   "outputs": [],
   "source": [
    "(res.period == res.mine).mean()"
   ]
  },
  {
   "cell_type": "code",
   "execution_count": null,
   "id": "c34d5934-9c21-44fd-84cb-da42f86804eb",
   "metadata": {},
   "outputs": [],
   "source": [
    "res_confirmed = res[res.confirmed]"
   ]
  },
  {
   "cell_type": "code",
   "execution_count": null,
   "id": "730b3886-5261-4e98-8c17-fb5090a97e71",
   "metadata": {},
   "outputs": [],
   "source": [
    "(res_confirmed.period == res_confirmed.mine).mean()"
   ]
  },
  {
   "cell_type": "code",
   "execution_count": null,
   "id": "464da992-568c-439b-b149-1e111875b906",
   "metadata": {},
   "outputs": [],
   "source": [
    "(res.period == res.mine_diff).mean()"
   ]
  },
  {
   "cell_type": "code",
   "execution_count": null,
   "id": "3f1f651a-d9c7-4462-b27c-822a3ff23457",
   "metadata": {
    "scrolled": true
   },
   "outputs": [],
   "source": [
    "from dabl import plot\n",
    "#plot(X=res, y=res.period==res.mine)"
   ]
  },
  {
   "cell_type": "code",
   "execution_count": null,
   "id": "757ee443-15b9-444c-b417-644eba93643f",
   "metadata": {},
   "outputs": [],
   "source": [
    "interesting = res[(res.period_strength > 1) & (res.mine != res.period)]"
   ]
  },
  {
   "cell_type": "code",
   "execution_count": null,
   "id": "e4cc363c-1872-4a31-aee0-85c98b5e53c3",
   "metadata": {},
   "outputs": [],
   "source": [
    "interesting = res_confirmed[res_confirmed.period != res_confirmed.mine]"
   ]
  },
  {
   "cell_type": "code",
   "execution_count": null,
   "id": "155e570f-092b-4268-b29c-7a971045547f",
   "metadata": {},
   "outputs": [],
   "source": [
    "interesting"
   ]
  },
  {
   "cell_type": "code",
   "execution_count": null,
   "id": "d7964ea2-f729-4fa6-bef7-955d81b76807",
   "metadata": {},
   "outputs": [],
   "source": [
    "for i in interesting.index[:20]:\n",
    "    sig, length, period, noise_strength, period_strength, mine, mine_diff, confirmed, theirs = syn_datasets[i]\n",
    "    plt.figure(figsize=(20, 5))\n",
    "    plt.title(f\"{i} True: {period}  mine: {mine}  theirs: {theirs}\")\n",
    "    plt.plot(sig)\n",
    "\n",
    "    plt.figure(figsize=(20, 5))\n",
    "    #n_lags = max(min(5000, 2 * period), 2 * mine)\n",
    "    #n_lags = max(20 * period, 2 * mine)\n",
    "    n_lags = 5000\n",
    "    auto_corr = acf(sig, nlags=n_lags, fft=True)\n",
    "    plt.plot(auto_corr)\n",
    "    peaks, _ = find_peaks(auto_corr)\n",
    "    new_mine = 0\n",
    "    if len(peaks):\n",
    "        prominences = peak_prominences(auto_corr, peaks)[0]\n",
    "        widths = peak_widths(auto_corr, peaks)[0]\n",
    "        masked_inds = np.where(auto_corr[peaks] >= np.maximum.accumulate(auto_corr[peaks][::-1])[::-1])[0]\n",
    "        #masked_inds = np.arange(len(peaks))\n",
    "        #prominence_threshold = np.percentile(prominences, 90)\n",
    "        sorted_prominences = np.sort(prominences)\n",
    "        if len(prominences) < 2:\n",
    "            good_max = sorted_prominences[-1]\n",
    "        else:\n",
    "            good_max = sorted_prominences[-2]\n",
    "        prominence_threshold = good_max - 2 * prominences[masked_inds].std()\n",
    "        if len(prominences) >= 10:\n",
    "            prominence_threshold = np.minimum(prominence_threshold, sorted_prominences[-10])      \n",
    "        pruned_inds = masked_inds[prominences[masked_inds] > prominence_threshold]\n",
    "        #pruned_peaks = pruned_peaks[widths[pruned_peaks] > widths_threshold]\n",
    "        \n",
    "        for p in pruned_inds:\n",
    "            plt.text(peaks[p], auto_corr[peaks[p]], f\"p: {prominences[p]:.2f} w: {widths[p]:.2f}\")\n",
    "        mode = stats.mode(np.diff(np.sort(peaks[pruned_inds])[:20]))\n",
    "        if mode.count > 1 and mode.mode in peaks[pruned_inds] or mode.count > 3:\n",
    "            new_mine = mode.mode\n",
    "        # msg = \"\"\n",
    "        # if widths[prominent_peak_idx] > peaks[prominent_peak_idx]:\n",
    "        #     msg = msg + \" early\"\n",
    "        # if prominences[prominent_peak_idx] < 0.1:\n",
    "        #     msg = msg + \" too low\"\n",
    "        # plt.title(msg)\n",
    "        # plt.text(peaks[prominent_peak_idx], autocorr[peaks[prominent_peak_idx]], f\"p: {prominences[prominent_peak_idx]:.2f} w: {widths[prominent_peak_idx]:.2f}\")\n",
    "        plt.plot(peaks[pruned_inds], auto_corr[peaks[pruned_inds]], 'o', c='k', alpha=0.5)\n",
    "    # plt.hlines([2.576 / np.sqrt(len(sig))], xmin=0, xmax=len(autocorr))\n",
    "    if mine !=0:\n",
    "        plt.plot([mine], auto_corr[mine], 'o', c='g')\n",
    "    if new_mine != 0:\n",
    "        plt.plot([new_mine], auto_corr[new_mine], 'o', c='y', markersize=10)\n",
    "    #plt.plot([theirs], autocorr[theirs], 'o', c='r')\n",
    "    plt.plot([period], auto_corr[period], 'o', c='r')\n",
    "    #plt.xlim(0, min(max(10 * period, 2 * mine), 5000))\n",
    "    plt.title(f\"mode: {mode}, prominence max: {prominences.max()}\")"
   ]
  },
  {
   "cell_type": "code",
   "execution_count": null,
   "id": "1295660f-1cd0-4d50-9b25-16da3907482f",
   "metadata": {},
   "outputs": [],
   "source": [
    "prominences"
   ]
  },
  {
   "cell_type": "code",
   "execution_count": null,
   "id": "1961c237-20fb-414c-b562-e35de0fc0c02",
   "metadata": {},
   "outputs": [],
   "source": [
    "def find_length_b(data, prominence_percentile=90, n_lags=5000):\n",
    "    #a, b = np.quantile(data, [0.001, 0.999])\n",
    "    #data_clipped = np.clip(data, a, b)\n",
    "    data_clipped = data\n",
    "    auto_corr = acf(data_clipped, nlags=n_lags, fft=True)\n",
    "    peaks, _ = find_peaks(auto_corr)\n",
    "\n",
    "    prominences = peak_prominences(auto_corr, peaks)[0]\n",
    "    widths = peak_widths(auto_corr, peaks)[0]\n",
    "\n",
    "    if len(prominences):\n",
    "        prominent_peak_idx = np.argmax(prominences)\n",
    "    else:\n",
    "        return 0\n",
    "\n",
    "    # easy mode assumption, mostly if there's only one periodicity\n",
    "    masked_inds = np.where(auto_corr[peaks] >= np.maximum.accumulate(auto_corr[peaks][::-1])[::-1])[0]\n",
    "    result = peaks[masked_inds[np.argmax(prominences[masked_inds])]]\n",
    "    if len(prominences) < 2:\n",
    "        good_max = np.max(prominences)\n",
    "    else:\n",
    "        good_max = np.sort(prominences)[-2]\n",
    "    print(good_max)\n",
    "    prominence_threshold = good_max - 2 * prominences[masked_inds].std()\n",
    "    print(prominence_threshold)\n",
    "    pruned_inds = masked_inds[prominences[masked_inds] > prominence_threshold]\n",
    "\n",
    "    mode = stats.mode(np.diff(np.sort(peaks[pruned_inds])))\n",
    "    if mode.count > 1 and mode.mode in peaks[pruned_inds] or mode.count > 3:\n",
    "        result = mode.mode\n",
    "\n",
    "    if 4 * result > n_lags and 4 * result < len(data):\n",
    "        # we didn't see enough lags for robust detection\n",
    "        result = find_length(data, prominence_percentile=prominence_percentile, n_lags=result * 4)         \n",
    "    \n",
    "    return result"
   ]
  },
  {
   "cell_type": "code",
   "execution_count": null,
   "id": "653513b7-7335-40ed-9a9c-991535ccd4ea",
   "metadata": {},
   "outputs": [],
   "source": [
    "find_length_b(syn_datasets[6][0])"
   ]
  },
  {
   "cell_type": "code",
   "execution_count": null,
   "id": "eead328f-0a6b-446a-aa4d-0bb822708659",
   "metadata": {},
   "outputs": [],
   "source": [
    "prominence_threshold"
   ]
  },
  {
   "cell_type": "code",
   "execution_count": null,
   "id": "e74c652f-5c84-49e8-915b-61f4dead7a1a",
   "metadata": {},
   "outputs": [],
   "source": [
    " np.sort(prominences)[-2]"
   ]
  },
  {
   "cell_type": "code",
   "execution_count": null,
   "id": "9531afec-4770-4efa-b12c-e588a0dd0c6d",
   "metadata": {},
   "outputs": [],
   "source": [
    "np.sort(prominences)[-2]"
   ]
  },
  {
   "cell_type": "code",
   "execution_count": null,
   "id": "80ca181b-39f1-4c5b-b65a-a1fbdbc7e615",
   "metadata": {},
   "outputs": [],
   "source": [
    "np.max(prominences)"
   ]
  },
  {
   "cell_type": "code",
   "execution_count": null,
   "id": "4a1bf55f-b563-4fdd-ab92-b1eec54e19ad",
   "metadata": {},
   "outputs": [],
   "source": []
  }
 ],
 "metadata": {
  "kernelspec": {
   "display_name": "Python [conda env:tsb_ad]",
   "language": "python",
   "name": "conda-env-tsb_ad-py"
  },
  "language_info": {
   "codemirror_mode": {
    "name": "ipython",
    "version": 3
   },
   "file_extension": ".py",
   "mimetype": "text/x-python",
   "name": "python",
   "nbconvert_exporter": "python",
   "pygments_lexer": "ipython3",
   "version": "3.11.10"
  }
 },
 "nbformat": 4,
 "nbformat_minor": 5
}
